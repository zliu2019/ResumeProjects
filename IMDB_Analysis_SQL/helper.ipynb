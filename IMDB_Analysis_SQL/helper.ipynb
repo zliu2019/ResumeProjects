{
 "metadata": {
  "language_info": {
   "codemirror_mode": {
    "name": "ipython",
    "version": 3
   },
   "file_extension": ".py",
   "mimetype": "text/x-python",
   "name": "python",
   "nbconvert_exporter": "python",
   "pygments_lexer": "ipython3",
   "version": "3.7.3-final"
  },
  "orig_nbformat": 2,
  "kernelspec": {
   "name": "python3",
   "display_name": "Python 3",
   "language": "python"
  }
 },
 "nbformat": 4,
 "nbformat_minor": 2,
 "cells": [
  {
   "source": [
    "# Data Cleaning for IMDB_Top250movies2_OMDB_Detailed.csv"
   ],
   "cell_type": "markdown",
   "metadata": {}
  },
  {
   "cell_type": "code",
   "execution_count": 1,
   "metadata": {},
   "outputs": [],
   "source": [
    "import pandas as pd \n",
    "mypath = r'C:\\Users\\xxxli\\Desktop\\ResumeProjects\\IMDB_Analysis_SQL\\imdb_data_csv\\datasets\\IMDB_Top250movies2_OMDB_Detailed.csv'\n",
    "df = pd.read_csv(mypath)\n",
    "# df.dtypes"
   ]
  },
  {
   "source": [
    "What I need before read in SQL:\n",
    "\n",
    "- RowId                  int64\n",
    "- Title                 string\n",
    "- Year                   int64\n",
    "- Rated                 string\n",
    "- Released            DateTime\n",
    "- Runtime                int64\n",
    "- Genre                 string\n",
    "- Director              String\n",
    "- Writer                string\n",
    "- Actors                string\n",
    "- Plot                  string\n",
    "- Language              string\n",
    "- Country               string\n",
    "- Awards                string\n",
    "- Poster                string\n",
    "- Ratings.Source        string\n",
    "- Ratings.Value         string\n",
    "- Metascore            float64\n",
    "- imdbRating           float64\n",
    "- imdbVotes             int64\n",
    "- imdbID                string\n",
    "- Type                  string\n",
    "- tomatoMeter          float64\n",
    "- tomatoImage          float64\n",
    "- tomatoRating         float64\n",
    "- tomatoReviews        float64\n",
    "- tomatoFresh          float64\n",
    "- tomatoRotten         float64\n",
    "- tomatoConsensus      float64\n",
    "- tomatoUserMeter      float64\n",
    "- tomatoUserRating     float64\n",
    "- tomatoUserReviews    float64\n",
    "- tomatoURL             string\n",
    "- DVD                 DateTime\n",
    "- BoxOffice            float64\n",
    "- Production            string\n",
    "- Website               string\n",
    "- Response                bool\n",
    "\n",
    "Note:\n",
    "\n",
    "For all string cells, if encounters a comma, replace it with a single space."
   ],
   "cell_type": "markdown",
   "metadata": {}
  },
  {
   "cell_type": "code",
   "execution_count": 2,
   "metadata": {},
   "outputs": [],
   "source": [
    "df.Released = pd.to_datetime(df.Released, format=\"%d-%b-%y\")\n",
    "df.DVD = pd.to_datetime(df.DVD, format=\"%d-%b-%y\")\n",
    "# df"
   ]
  },
  {
   "cell_type": "code",
   "execution_count": 3,
   "metadata": {},
   "outputs": [],
   "source": [
    "def imdbvotes_toInt(x):\n",
    "    x = x.replace(',','')\n",
    "    return int(x)\n",
    "df.imdbVotes = df.imdbVotes.apply(imdbvotes_toInt)\n",
    "# df.head()"
   ]
  },
  {
   "cell_type": "code",
   "execution_count": 4,
   "metadata": {},
   "outputs": [],
   "source": [
    "def BoxOffice_toFloat(x):\n",
    "    x = str(x)\n",
    "    x = x.replace(',','')\n",
    "    x = x.replace('$','')\n",
    "    x = x.replace(' ','')\n",
    "    return float(x)\n",
    "df.BoxOffice = df.BoxOffice.apply(BoxOffice_toFloat)\n",
    "# df.head()"
   ]
  },
  {
   "cell_type": "code",
   "execution_count": 5,
   "metadata": {},
   "outputs": [],
   "source": [
    "def Runtime_toInt(x):\n",
    "    time = int(x.split(' ')[0])\n",
    "    return time\n",
    "df.Runtime = df.Runtime.apply(Runtime_toInt)\n",
    "# df.head()"
   ]
  },
  {
   "cell_type": "code",
   "execution_count": 6,
   "metadata": {},
   "outputs": [],
   "source": [
    "def replacecommainstr(x):\n",
    "    return str(x.replace(',',\" \")) if type(x) == str else x\n",
    "df2 = df.applymap(replacecommainstr)\n",
    "#df2.head()"
   ]
  },
  {
   "cell_type": "code",
   "execution_count": 7,
   "metadata": {},
   "outputs": [],
   "source": [
    "df2.index = df2.RowId\n",
    "df3 = df2.drop(columns=['RowId'])\n",
    "# df3"
   ]
  },
  {
   "cell_type": "code",
   "execution_count": 9,
   "metadata": {},
   "outputs": [],
   "source": [
    "df3.to_csv(r'C:\\Users\\xxxli\\Desktop\\ResumeProjects\\IMDB_Analysis_SQL\\imdb_data_csv\\datasets\\IMDB_Top250movies2_OMDB_Detailed_Cleaned.csv')"
   ]
  },
  {
   "cell_type": "code",
   "execution_count": 8,
   "metadata": {},
   "outputs": [
    {
     "output_type": "execute_result",
     "data": {
      "text/plain": [
       "Title                        object\n",
       "Year                          int64\n",
       "Rated                        object\n",
       "Released             datetime64[ns]\n",
       "Runtime                       int64\n",
       "Genre                        object\n",
       "Director                     object\n",
       "Writer                       object\n",
       "Actors                       object\n",
       "Plot                         object\n",
       "Language                     object\n",
       "Country                      object\n",
       "Awards                       object\n",
       "Poster                       object\n",
       "Ratings.Source               object\n",
       "Ratings.Value                object\n",
       "Metascore                   float64\n",
       "imdbRating                  float64\n",
       "imdbVotes                     int64\n",
       "imdbID                       object\n",
       "Type                         object\n",
       "tomatoMeter                 float64\n",
       "tomatoImage                 float64\n",
       "tomatoRating                float64\n",
       "tomatoReviews               float64\n",
       "tomatoFresh                 float64\n",
       "tomatoRotten                float64\n",
       "tomatoConsensus             float64\n",
       "tomatoUserMeter             float64\n",
       "tomatoUserRating            float64\n",
       "tomatoUserReviews           float64\n",
       "tomatoURL                    object\n",
       "DVD                  datetime64[ns]\n",
       "BoxOffice                   float64\n",
       "Production                   object\n",
       "Website                      object\n",
       "Response                       bool\n",
       "dtype: object"
      ]
     },
     "metadata": {},
     "execution_count": 8
    }
   ],
   "source": [
    "df3.dtypes"
   ]
  },
  {
   "cell_type": "code",
   "execution_count": null,
   "metadata": {},
   "outputs": [],
   "source": []
  }
 ]
}