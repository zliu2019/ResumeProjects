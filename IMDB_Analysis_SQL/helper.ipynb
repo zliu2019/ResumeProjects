{
 "metadata": {
  "language_info": {
   "codemirror_mode": {
    "name": "ipython",
    "version": 3
   },
   "file_extension": ".py",
   "mimetype": "text/x-python",
   "name": "python",
   "nbconvert_exporter": "python",
   "pygments_lexer": "ipython3",
   "version": 3
  },
  "orig_nbformat": 2
 },
 "nbformat": 4,
 "nbformat_minor": 2,
 "cells": [
  {
   "cell_type": "code",
   "execution_count": null,
   "metadata": {},
   "outputs": [],
   "source": [
    "import pandas as pd \n",
    "mypath = 'C:\\Users\\xxxli\\Desktop\\ResumeProjects\\IMDB_Analysis_SQL\\imdb_data_csv\\studentoflife-imdb-top-250-lists-and-5000-or-so-data-records\\IMDB_Top250movies2_OMDB_Detailed.csv'\n",
    "df = pd.read_csv(mypath)\n",
    "df"
   ]
  }
 ]
}