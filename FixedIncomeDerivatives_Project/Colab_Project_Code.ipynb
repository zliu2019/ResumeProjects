{
  "nbformat": 4,
  "nbformat_minor": 0,
  "metadata": {
    "colab": {
      "name": "Colab_Project_Code",
      "provenance": [],
      "collapsed_sections": []
    },
    "kernelspec": {
      "display_name": "Python 3",
      "name": "python3"
    }
  },
  "cells": [
    {
      "cell_type": "markdown",
      "metadata": {
        "id": "ZT3a3hOo1oNI"
      },
      "source": [
        "HW3"
      ]
    },
    {
      "cell_type": "code",
      "metadata": {
        "id": "zJsJrSkkHhTr"
      },
      "source": [
        ""
      ],
      "execution_count": null,
      "outputs": []
    },
    {
      "cell_type": "markdown",
      "metadata": {
        "id": "rmos-Cex11aR"
      },
      "source": [
        "# Project:\n",
        "Implied Vol on each day:\n",
        "\n"
      ]
    },
    {
      "cell_type": "code",
      "metadata": {
        "id": "AZDoyYEOKrNM",
        "colab": {
          "base_uri": "https://localhost:8080/",
          "height": 50
        },
        "outputId": "e0186bdf-78d5-45dd-ca66-8748d401d70f"
      },
      "source": [
        "import numpy as np\n",
        "import scipy.stats\n",
        "from scipy.stats import norm\n",
        "import scipy as sy\n",
        "# Put Option on ED Futures:\n",
        "# A call on the price is a put/floor on the implied rate, \n",
        "# so to analyze a ED Call, we have to use Black’s Put formula. \n",
        "# A put on the price is a call/cap on the implied rate, \n",
        "# so to analyze a ED Put, we have to use Black’s Call formula.\n",
        "def N(x):\n",
        "  value = scipy.stats.norm.cdf(x,0,1)\n",
        "  # print('N(d) = ',value)\n",
        "  return value\n",
        "def NT(x):\n",
        "  value = scipy.stats.norm.pdf(x,0,1)\n",
        "  # print('NT(d) = ', value)\n",
        "  return value\n",
        "def DF(r, T):\n",
        "  result = 1/(1+r*T)\n",
        "  result2 = np.exp(-r*T)\n",
        "  # print('DF = ', result)\n",
        "  return result\n",
        "\n",
        "def Black_evaluation(F, K, T, sigma, Black_Call = True): # act/365 year basis\n",
        "  d = (F-K)/sigma/np.sqrt(T)\n",
        "  return sigma*np.sqrt(T)*(NT(d)+d*N(d))\n",
        "\n",
        "ED_alpha = 90/360\n",
        "# Underlying rate, Exercise rate,TimetoMature, risk free rate, Volatility\n",
        "def ED_Option(F, K, T, r, sigma, ED_Put = True):\n",
        "  return DF(r,T)*1000000*Black_evaluation(F, K, T, sigma)*ED_alpha\n",
        "\n",
        "def tick_value(ticks):\n",
        "  return 25*ticks\n",
        "\n",
        "def print_info(F, K, T, stub, sigma, tick):\n",
        "  print('Given following on one day:')\n",
        "  print('   F = ', F)\n",
        "  print('   K = ', K)\n",
        "  print('   time to expiry in years: ',T, 'years')\n",
        "  print('   stub rate =', stub)\n",
        "  print('   DF = ',DF(stub, T))\n",
        "  print('When sigma = ', sigma,',')\n",
        "  print(' calulated ED Option value = ', ED_Option(F, K, T, stub, sigma))\n",
        "  print(' which is equal to the ED Put value of ',tick,'ticks = $', tick_value(tick))\n",
        "  print('Therefore, Implied Normal Volatility sigma_N is then ',sigma, 'or ',round(sigma*10000,2),'bps')\n",
        "  return ED_Option(F, K, T, stub, sigma)\n",
        "\n",
        "ED_alpha = 90/360\n",
        "K = (100-99.5)/100\n",
        "\n",
        "# On Oct.8\n",
        "print('----------Oct.8----------')\n",
        "# sigma1 = implied_sig\n",
        "F1 = (100-99.65)/100\n",
        "T1 = 67/365 # time to expire\n",
        "stub1 = 0.3/100\n",
        "ticks1 = 5\n",
        "# Put_value_Oct8 = print_info(F1, K, T1, stub1, sigma1, ticks1)\n",
        "\n",
        "# On Oct.9\n",
        "print('----------Oct.9----------')\n",
        "# sigma2 = 0.61927/100\n",
        "F2 = (100-99.6)/100\n",
        "T2 = 66/365\n",
        "stub2 = 0.35/100\n",
        "ticks2 = 6.25\n",
        "# Put_value_Oct9 = print_info(F2, K, T2, stub2, sigma2, ticks2)"
      ],
      "execution_count": null,
      "outputs": [
        {
          "output_type": "stream",
          "text": [
            "----------Oct.8----------\n",
            "----------Oct.9----------\n"
          ],
          "name": "stdout"
        }
      ]
    },
    {
      "cell_type": "markdown",
      "metadata": {
        "id": "_c0VOGfBuF2x"
      },
      "source": [
        "Implied Vol:\n"
      ]
    },
    {
      "cell_type": "code",
      "metadata": {
        "id": "fpZk3DwMrMw5",
        "colab": {
          "base_uri": "https://localhost:8080/",
          "height": 84
        },
        "outputId": "09655c74-73ef-4b1f-9ba0-fe2d1bcedbde"
      },
      "source": [
        "act_price_call = 5*25\n",
        "act_price_call2 = 6.25*25\n",
        "\n",
        "import scipy as sy\n",
        "from scipy.stats import norm\n",
        "def pricecall(F, K, sr, te, sig):\n",
        "    d = (F-K)/sig/np.sqrt(te)\n",
        "    dte = np.exp(-sr*te)\n",
        "    nd = norm.cdf(d)\n",
        "    ndp = norm.pdf(d)\n",
        "    w = dte*1000000*sig*np.sqrt(te)*(ndp+d*nd)*1/4\n",
        "    return w\n",
        "sig_1 = sy.optimize.root(lambda x: pricecall(F1, K, stub1, T1, x)-act_price_call,0.0068).x[0]\n",
        "print('Oct8 Implied Vol =',sig_1)\n",
        "print('Oct8 Implied Break Even Daily Vol =',sig_1*np.sqrt(1/252))\n",
        "sig_2 = sy.optimize.root(lambda x: pricecall(F2, K, stub2, T2, x)-act_price_call2,0.0068).x[0]\n",
        "print('Oct9 Implied Vol =',sig_2)\n",
        "print('Oct9 Implied Break Even Daily Vol =',sig_2*np.sqrt(1/252))"
      ],
      "execution_count": null,
      "outputs": [
        {
          "output_type": "stream",
          "text": [
            "Oct8 Implied Vol = 0.0063772333006025085\n",
            "Oct8 Implied Break Even Daily Vol = 0.00040172793728652037\n",
            "Oct9 Implied Vol = 0.006192681317977952\n",
            "Oct9 Implied Break Even Daily Vol = 0.00039010225514393725\n"
          ],
          "name": "stdout"
        }
      ]
    },
    {
      "cell_type": "markdown",
      "metadata": {
        "id": "zVAXKKSC2azV"
      },
      "source": [
        "Greeks on Oct8"
      ]
    },
    {
      "cell_type": "code",
      "metadata": {
        "id": "IvXNfh-jcPkX",
        "colab": {
          "base_uri": "https://localhost:8080/",
          "height": 67
        },
        "outputId": "1bd0af9e-dcfd-4eed-8791-68064a5f32b1"
      },
      "source": [
        "# greeks on Oct.8\n",
        "# delta: change in price due to +1bp change in underlying contract price\n",
        "print('----------Oct.8----------')\n",
        "sigma1 = sig_1\n",
        "contract1 = 99.65\n",
        "contract2 = contract1 + 0.01\n",
        "\n",
        "F1 = (100-contract1)/100\n",
        "F2 = (100-contract2)/100\n",
        "\n",
        "K = (100-99.5)/100\n",
        "T1 = 67/365 # time to expire\n",
        "stub1 = 0.3/100\n",
        "ticks1 = 5\n",
        "\n",
        "price = ED_Option(F1, K, T1, stub1, sigma1) #5cent\n",
        "price_rate_bump = ED_Option(F1+0.0001, K, T1, stub1, sigma1)\n",
        "delta = price_rate_bump-price\n",
        "print('bump rate: delta = ',delta/25,'ticks, or $',delta)\n",
        "\n",
        " # price_contract_bump = ED_Option(F2, K, T1, stub1, sigma1)\n",
        "# delta2 = price_contract_bump-price\n",
        "\n",
        "# nagetive\n",
        "delta_in_ticks = -delta/25\n",
        "print(delta_in_ticks)"
      ],
      "execution_count": null,
      "outputs": [
        {
          "output_type": "stream",
          "text": [
            "----------Oct.8----------\n",
            "bump rate: delta =  0.2976615355796986 ticks, or $ 7.4415383894924645\n",
            "-0.2976615355796986\n"
          ],
          "name": "stdout"
        }
      ]
    },
    {
      "cell_type": "code",
      "metadata": {
        "id": "u_4CfSLKxvtC",
        "colab": {
          "base_uri": "https://localhost:8080/",
          "height": 50
        },
        "outputId": "81896e16-f6dc-450e-8c4e-b213e13afe42"
      },
      "source": [
        "# Gamma: calculate two delta numbers (for two consecutive underlying bumps)\n",
        "sigma1 = 0.638/100\n",
        "F1 = (100-99.65)/100\n",
        "T1 = 67/365 # time to expire\n",
        "stub1 = 0.3/100\n",
        "ticks1 = 5\n",
        "\n",
        "price_1 = ED_Option(F1-0.0001, K, T1, stub1, sigma1)\n",
        "price_2 = ED_Option(F1, K, T1, stub1, sigma1)\n",
        "price_3 = ED_Option(F1+0.0001, K, T1, stub1, sigma1)\n",
        "\n",
        "delta_1 = -(price_2-price_1)/25\n",
        "delta_2 = -(price_3-price_2)/25\n",
        "\n",
        "gamma = delta_2 - delta_1\n",
        "print('bump rate: gamma = ',gamma)\n",
        "#####################################################\n",
        "F1 = (100-99.64)/100\n",
        "F2 = (100-99.65)/100\n",
        "F3 = (100-99.66)/100\n",
        "price_1 = ED_Option(F1, K, T1, stub1, sigma1)\n",
        "price_2 = ED_Option(F2, K, T1, stub1, sigma1)\n",
        "price_3 = ED_Option(F3, K, T1, stub1, sigma1)\n",
        "\n",
        "delta_1 = price_2-price_1\n",
        "delta_2 = price_3-price_2\n",
        "\n",
        "gamma2 = delta_2 - delta_1\n",
        "print('bump contract: gamma = $',gamma2)"
      ],
      "execution_count": null,
      "outputs": [
        {
          "output_type": "stream",
          "text": [
            "bump rate: gamma =  -0.012546862634898126\n",
            "bump contract: gamma = $ 0.31367156588268585\n"
          ],
          "name": "stdout"
        }
      ]
    },
    {
      "cell_type": "code",
      "metadata": {
        "id": "vvfDmczfzGGN",
        "colab": {
          "base_uri": "https://localhost:8080/",
          "height": 34
        },
        "outputId": "d7d1ec9c-a15b-447a-d515-7867087415eb"
      },
      "source": [
        "# vega: bump implied vol by 1bp\n",
        "sigma1 = 0.638/100\n",
        "F1 = (100-99.65)/100\n",
        "T1 = 67/365 # time to expire\n",
        "stub1 = 0.3/100\n",
        "ticks1 = 5\n",
        "\n",
        "price_1 = ED_Option(F1, K, T1, stub1, sigma1)\n",
        "price_2 = ED_Option(F1, K, T1, stub1, sigma1+0.0001)\n",
        "vega = price_2-price_1\n",
        "print('vega = $',vega)"
      ],
      "execution_count": null,
      "outputs": [
        {
          "output_type": "stream",
          "text": [
            "vega = $ 3.682316495839757\n"
          ],
          "name": "stdout"
        }
      ]
    },
    {
      "cell_type": "code",
      "metadata": {
        "id": "xlSnRofM1jOK",
        "colab": {
          "base_uri": "https://localhost:8080/",
          "height": 34
        },
        "outputId": "99ac75e4-b928-41dd-adbf-3823b3af004b"
      },
      "source": [
        "# theta: change in time to expiry T by one day, i.e. -1/365 year\n",
        "sigma1 = 0.638/100\n",
        "F1 = (100-99.65)/100\n",
        "T1 = 67/365 # time to expire\n",
        "stub1 = 0.3/100\n",
        "ticks1 = 5\n",
        "\n",
        "price_1 = ED_Option(F1, K, T1, stub1, sigma1)\n",
        "price_2 = ED_Option(F1, K, T1-1/365, stub1, sigma1)\n",
        "theta = price_2-price_1\n",
        "print('theta = $',theta)"
      ],
      "execution_count": null,
      "outputs": [
        {
          "output_type": "stream",
          "text": [
            "theta = $ -1.7527207318067752\n"
          ],
          "name": "stdout"
        }
      ]
    },
    {
      "cell_type": "markdown",
      "metadata": {
        "id": "Pv3eeotye0Vz"
      },
      "source": [
        "###PnLs contribution of Greeks\n"
      ]
    },
    {
      "cell_type": "code",
      "metadata": {
        "id": "A3hwih5s_tzb",
        "colab": {
          "base_uri": "https://localhost:8080/",
          "height": 218
        },
        "outputId": "19d7d770-57f1-4bf8-a642-739672f05654"
      },
      "source": [
        "ED_alpha = 90/360\n",
        "K = (100-99.5)/100\n",
        "\n",
        "# On Oct.8\n",
        "print('----------Oct.8----------')\n",
        "sigma1 = sig_1\n",
        "contract1 = 99.65\n",
        "F1 = (100-contract1)/100\n",
        "T1 = 67/365 # time to expire\n",
        "stub1 = 0.3/100\n",
        "ticks1 = 5\n",
        "\n",
        "# On Oct.9\n",
        "print('----------Oct.9----------')\n",
        "sigma2 = sig_2\n",
        "contract2 = 99.6\n",
        "F2 = (100-contract2)/100\n",
        "T2 = 66/365\n",
        "stub2 = 0.35/100\n",
        "ticks2 = 6.25\n",
        "\n",
        "\n",
        "# delta*25 is price change due to +1bp change in price (0.01 in contract1)\n",
        "# (contract2-contract1)/(0.01) units -> (contract2-contract1)*100 number of 0.01 in the change\n",
        "# delta*25*(F2-F1)*10000\n",
        "\n",
        "deltaPL = delta_in_ticks*25*(contract2-contract1)*100\n",
        "print('realized delta PnL = ',deltaPL)\n",
        "deltaPL2 = delta/25*(F2-F1) # 0.29*5bp\n",
        "print('realized delta PnL in ticks = ',deltaPL2)\n",
        "\n",
        "# gamma is rate of change of delta, using taylor expansion to second order\n",
        "# (F2-F1)/(1bp) units -> (F2-F1)*10000\n",
        "dF = (F2-F1)*10000 # number of bps in the change \n",
        "gammaPL = 0.5*gamma*(dF)**2\n",
        "print('realized gamma PnL = ',gammaPL)\n",
        "\n",
        "# theta time decay is real put price change due to -1/365 year change in time to expiry T\n",
        "# (T2-T1) years -> (T2-T1)/(-1/365) unit -> -(T2-T1)*365\n",
        "# -theta*(T2-T1)*365\n",
        "thetaPL = -theta*(T2-T1)*365 # should be the same as theta \n",
        "print('realized theta PnL = ',thetaPL)\n",
        "\n",
        "# vega is real put price change due to +1bp change in vol(sigma)\n",
        "# (sigma2-sigma1)/(1bp) -> (sigma2-sigma1)*10000\n",
        "# vega*(sigma2-sigma1)*10000\n",
        "vegaPL = vega*(sigma2-sigma1)*10000\n",
        "print('realized vega PnL = ',vegaPL)\n",
        "\n",
        "\n",
        "absolutePL = (156.25 - 125)\n",
        "print('DeltaPnL is % 5.10f of total realized PnL.' %(deltaPL/absolutePL))\n",
        "print('GammaPnL is % 5.10f of total realized PnL.' %(gammaPL/absolutePL))\n",
        "print('thetaPnL is % 5.10f of total realized PnL.' %(thetaPL/absolutePL))\n",
        "print('VegaPnL is % 5.10f of total realized PnL.' %(vegaPL/absolutePL))\n",
        "print('Realized Total PnL =',absolutePL)"
      ],
      "execution_count": null,
      "outputs": [
        {
          "output_type": "stream",
          "text": [
            "----------Oct.8----------\n",
            "----------Oct.9----------\n",
            "realized delta PnL =  37.20769194747079\n",
            "realized delta PnL in ticks =  0.000148830767789883\n",
            "realized gamma PnL =  3.920894573407452\n",
            "realized theta PnL =  -1.7527207318067681\n",
            "realized vega PnL =  -6.795788099583355\n",
            "DeltaPnL is  1.1906461423 of total realized PnL.\n",
            "GammaPnL is  0.1254686263 of total realized PnL.\n",
            "thetaPnL is -0.0560870634 of total realized PnL.\n",
            "VegaPnL is -0.2174652192 of total realized PnL.\n",
            "Realized Total PnL = 31.25\n"
          ],
          "name": "stdout"
        }
      ]
    },
    {
      "cell_type": "code",
      "metadata": {
        "id": "Ze1ytc6R3Vkq",
        "colab": {
          "base_uri": "https://localhost:8080/",
          "height": 166
        },
        "outputId": "8cc3e462-9fd2-4d1d-f8c4-3450dc5ca9ad"
      },
      "source": [
        "import pandas as pd\n",
        "df = pd.DataFrame([['+1bp',str(round(delta_in_ticks,3))+' ticks','$'+str(round(deltaPL)),(deltaPL/absolutePL)], \n",
        "          ['-1bp,+1bp','$'+str(round(gamma,3)),'$'+str(round(gammaPL,3)),(gammaPL/absolutePL)], \n",
        "          ['-1/365','$'+str(round(theta,3)),'$'+str(round(thetaPL,3)),(thetaPL/absolutePL)], \n",
        "          ['+1bp','$'+str(round(vega,3)),'$'+str(round(vegaPL,3)),(vegaPL/absolutePL)]], \n",
        "          index=['delta', 'gamma', 'theta', 'vega'], columns=['bumping','Greeks value','P&L','pct on absolute PnL']).T\n",
        "otherPL = absolutePL-(deltaPL+gammaPL+thetaPL+vegaPL)\n",
        "df['otherPL'] = ['N\\A','N\\A','$'+str(round(otherPL,3)),otherPL/absolutePL]\n",
        "df['sum'] = ['N\\A','N\\A','$'+str(round(deltaPL+gammaPL+thetaPL+vegaPL+otherPL,3)),\n",
        "              df.loc['pct on absolute PnL'].sum()]\n",
        "df"
      ],
      "execution_count": null,
      "outputs": [
        {
          "output_type": "execute_result",
          "data": {
            "text/html": [
              "<div>\n",
              "<style scoped>\n",
              "    .dataframe tbody tr th:only-of-type {\n",
              "        vertical-align: middle;\n",
              "    }\n",
              "\n",
              "    .dataframe tbody tr th {\n",
              "        vertical-align: top;\n",
              "    }\n",
              "\n",
              "    .dataframe thead th {\n",
              "        text-align: right;\n",
              "    }\n",
              "</style>\n",
              "<table border=\"1\" class=\"dataframe\">\n",
              "  <thead>\n",
              "    <tr style=\"text-align: right;\">\n",
              "      <th></th>\n",
              "      <th>delta</th>\n",
              "      <th>gamma</th>\n",
              "      <th>theta</th>\n",
              "      <th>vega</th>\n",
              "      <th>otherPL</th>\n",
              "      <th>sum</th>\n",
              "    </tr>\n",
              "  </thead>\n",
              "  <tbody>\n",
              "    <tr>\n",
              "      <th>bumping</th>\n",
              "      <td>+1bp</td>\n",
              "      <td>-1bp,+1bp</td>\n",
              "      <td>-1/365</td>\n",
              "      <td>+1bp</td>\n",
              "      <td>N\\A</td>\n",
              "      <td>N\\A</td>\n",
              "    </tr>\n",
              "    <tr>\n",
              "      <th>Greeks value</th>\n",
              "      <td>-0.298 ticks</td>\n",
              "      <td>$0.314</td>\n",
              "      <td>$-1.753</td>\n",
              "      <td>$3.682</td>\n",
              "      <td>N\\A</td>\n",
              "      <td>N\\A</td>\n",
              "    </tr>\n",
              "    <tr>\n",
              "      <th>P&amp;L</th>\n",
              "      <td>$37.0</td>\n",
              "      <td>$3.921</td>\n",
              "      <td>$-1.753</td>\n",
              "      <td>$-6.796</td>\n",
              "      <td>$-1.33</td>\n",
              "      <td>$31.25</td>\n",
              "    </tr>\n",
              "    <tr>\n",
              "      <th>pct on absolute PnL</th>\n",
              "      <td>1.19065</td>\n",
              "      <td>0.125469</td>\n",
              "      <td>-0.0560871</td>\n",
              "      <td>-0.217465</td>\n",
              "      <td>-0.0425625</td>\n",
              "      <td>1</td>\n",
              "    </tr>\n",
              "  </tbody>\n",
              "</table>\n",
              "</div>"
            ],
            "text/plain": [
              "                            delta      gamma  ...    otherPL     sum\n",
              "bumping                      +1bp  -1bp,+1bp  ...        N\\A     N\\A\n",
              "Greeks value         -0.298 ticks     $0.314  ...        N\\A     N\\A\n",
              "P&L                         $37.0     $3.921  ...     $-1.33  $31.25\n",
              "pct on absolute PnL       1.19065   0.125469  ... -0.0425625       1\n",
              "\n",
              "[4 rows x 6 columns]"
            ]
          },
          "metadata": {
            "tags": []
          },
          "execution_count": 70
        }
      ]
    },
    {
      "cell_type": "markdown",
      "metadata": {
        "id": "xJQSkfAPENFV"
      },
      "source": [
        "Amir Email:"
      ]
    },
    {
      "cell_type": "code",
      "metadata": {
        "id": "FuvyCYia-q8t",
        "colab": {
          "base_uri": "https://localhost:8080/",
          "height": 67
        },
        "outputId": "4981507c-18a9-4c33-f20a-26e0161bed22"
      },
      "source": [
        "# On Oct.8\n",
        "sigma1 = sig_1\n",
        "contract1 = 99.65\n",
        "F1 = (100-contract1)/100\n",
        "K = (100-99.5)/100\n",
        "T1 = 67/365\n",
        "stub1 = 0.3/100\n",
        "\n",
        "# On Oct.9\n",
        "contract2 = 99.6\n",
        "F2 = (100-contract2)/100\n",
        "sigma2 = sig_2\n",
        "\n",
        "price_1 = ED_Option(F1-0.0001, K, T1, stub1, sigma1)\n",
        "price_2 = ED_Option(F1, K, T1, stub1, sigma1) #5cent\n",
        "delta1 = (price_2-price_1)/25\n",
        "print('minus rate: delta in ticks = ',delta1)\n",
        "\n",
        "price_3 = ED_Option(F1+0.0001, K, T1, stub1, sigma1)\n",
        "delta2 = (price_3-price_2)/25 # inticks\n",
        "print('bump rate: delta in ticks = ',delta2)\n",
        "\n",
        "\n",
        "gamma = delta2-delta1\n",
        "print('gamma = ',gamma,'ticks')"
      ],
      "execution_count": null,
      "outputs": [
        {
          "output_type": "stream",
          "text": [
            "minus rate: delta in ticks =  0.28511087022561865\n",
            "bump rate: delta in ticks =  0.2976615355796986\n",
            "gamma =  0.012550665354079948 ticks\n"
          ],
          "name": "stdout"
        }
      ]
    },
    {
      "cell_type": "code",
      "metadata": {
        "id": "_Sdd4eWK_AB3",
        "colab": {
          "base_uri": "https://localhost:8080/",
          "height": 50
        },
        "outputId": "56ef4b31-8c7a-4fb4-cb74-0b0162286c11"
      },
      "source": [
        "# for 1bp change in F rate, option increase 0.29 tick in price\n",
        "# for actually 5bp change in F rate, option should increase\n",
        "deltaPnL = delta2*(F2-F1)/(1/10000)\n",
        "print('deltaPnL in ticks =', deltaPnL,' or ',deltaPnL*25,' in dollars')\n",
        "print('overall PnL = 6.25-5 = 1.25 ticks, or ', 1.25*25,' in dollars')"
      ],
      "execution_count": null,
      "outputs": [
        {
          "output_type": "stream",
          "text": [
            "deltaPnL in ticks = 1.4883076778988298  or  37.20769194747074  in dollars\n",
            "overall PnL = 6.25-5 = 1.25 ticks, or  31.25  in dollars\n"
          ],
          "name": "stdout"
        }
      ]
    },
    {
      "cell_type": "code",
      "metadata": {
        "id": "4Kuky3Q4_jI0",
        "colab": {
          "base_uri": "https://localhost:8080/",
          "height": 84
        },
        "outputId": "9ac198a5-b2b4-4f83-fe36-5da29f4ff7b3"
      },
      "source": [
        "dF = (F2-F1) # 5bp\n",
        "print(dF)\n",
        "\n",
        "gammabp=gamma*10000\n",
        "print('amir gamma =', gammabp)\n",
        "gammabpPnL = 0.5*gammabp*10000*(dF)**2\n",
        "print('gammabpPnL in ticks =',gammabpPnL)\n",
        "\n",
        "\n",
        "\n",
        "gammaPnL = 0.5*gamma*(dF*10000)**2\n",
        "print('gammaPnL in ticks =',gammaPnL,' or',gammaPnL*25,'in dollars')\n"
      ],
      "execution_count": null,
      "outputs": [
        {
          "output_type": "stream",
          "text": [
            "0.0005000000000001132\n",
            "amir gamma = 125.50665354079949\n",
            "gammabpPnL in ticks = 0.1568833169260704\n",
            "gammaPnL in ticks = 0.15688331692607044  or 3.922082923151761 in dollars\n"
          ],
          "name": "stdout"
        }
      ]
    },
    {
      "cell_type": "code",
      "metadata": {
        "id": "VSfKylusFczh",
        "colab": {
          "base_uri": "https://localhost:8080/",
          "height": 50
        },
        "outputId": "2192c2ac-64b1-49eb-a265-3d8c7e289a9b"
      },
      "source": [
        "price_4 = ED_Option(F1, K, T1, stub1, sigma1)\n",
        "price_5 = ED_Option(F1, K, T1-1/365, stub1, sigma1)\n",
        "theta = (price_5 - price_4)/25\n",
        "print('theta in ticks = ',theta,'or ',theta*25,' in dollars')\n",
        "\n",
        "thetaPnL = theta*(1/365)/(1/365)\n",
        "print('thetaPnL in ticks =',thetaPnL,' or ', thetaPnL*25,'in dollars')"
      ],
      "execution_count": null,
      "outputs": [
        {
          "output_type": "stream",
          "text": [
            "theta in ticks =  -0.07006921082428277 or  -1.7517302706070694  in dollars\n",
            "thetaPnL in ticks = -0.07006921082428277  or  -1.7517302706070694 in dollars\n"
          ],
          "name": "stdout"
        }
      ]
    },
    {
      "cell_type": "code",
      "metadata": {
        "id": "32zhRjJaGC_A",
        "colab": {
          "base_uri": "https://localhost:8080/",
          "height": 50
        },
        "outputId": "150255ac-d953-4a3a-8b80-b472db817fdc"
      },
      "source": [
        "price_6 = ED_Option(F1, K, T1, stub1, sigma1)\n",
        "price_7 = ED_Option(F1, K, T1, stub1, sigma1+0.0001)\n",
        "vega = (price_7 - price_6)/25\n",
        "print('vega in ticks =',vega, 'or ', vega*25,'in dollars')\n",
        "\n",
        "vegaPnL = vega*(sigma2-sigma1)/(1/10000)\n",
        "print('vegaPnL =',vegaPnL, 'or ',vegaPnL*25,'in dollars')"
      ],
      "execution_count": null,
      "outputs": [
        {
          "output_type": "stream",
          "text": [
            "vega in ticks = 0.14727385765621365 or  3.6818464414053413 in dollars\n",
            "vegaPnL = -0.271796824192209 or  -6.794920604805226 in dollars\n"
          ],
          "name": "stdout"
        }
      ]
    },
    {
      "cell_type": "code",
      "metadata": {
        "id": "pRhCOMZlGwAb",
        "colab": {
          "base_uri": "https://localhost:8080/",
          "height": 34
        },
        "outputId": "0412d2ec-8a2e-410d-fa30-82f6471a5ba4"
      },
      "source": [
        "otherPnL = (6.25-5) - (deltaPnL + gammaPnL + thetaPnL + vegaPnL)\n",
        "print('other PnL in ticks = ', otherPnL, 'or ',otherPnL*25, 'in dollar')"
      ],
      "execution_count": null,
      "outputs": [
        {
          "output_type": "stream",
          "text": [
            "other PnL in ticks =  -0.053324959808408234 or  -1.3331239952102059 in dollar\n"
          ],
          "name": "stdout"
        }
      ]
    },
    {
      "cell_type": "code",
      "metadata": {
        "id": "Nm11oIG9fT3A",
        "colab": {
          "base_uri": "https://localhost:8080/",
          "height": 166
        },
        "outputId": "e4b03a5b-10d0-42cf-969c-dc101ead786c"
      },
      "source": [
        "import pandas as pd\n",
        "pd.options.display.float_format = \"{:,.4f}\".format\n",
        "df = pd.DataFrame([['+1bp',delta2,deltaPnL,(deltaPnL/1.25)], \n",
        "          ['-1bp,+1bp',gamma,gammaPnL,(gammaPnL/1.25)], \n",
        "          ['-1/365',theta,thetaPnL,(thetaPnL/1.25)], \n",
        "          ['+1bp',vega,vegaPnL,(vegaPnL/1.25)]], \n",
        "          index=['delta', 'gamma', 'theta', 'vega'], columns=['bumping in Forward rate','Greeks(tick)','P&L(tick)','pct on realized PnL']).T\n",
        "df['otherPnL'] = ['N\\A','N\\A',otherPnL,otherPnL/1.25]\n",
        "df['Realized PnL'] = ['N\\A','N\\A',deltaPnL+gammaPnL+thetaPnL+vegaPnL+otherPnL,\n",
        "              df.loc['pct on realized PnL'].sum()]\n",
        "df"
      ],
      "execution_count": null,
      "outputs": [
        {
          "output_type": "execute_result",
          "data": {
            "text/html": [
              "<div>\n",
              "<style scoped>\n",
              "    .dataframe tbody tr th:only-of-type {\n",
              "        vertical-align: middle;\n",
              "    }\n",
              "\n",
              "    .dataframe tbody tr th {\n",
              "        vertical-align: top;\n",
              "    }\n",
              "\n",
              "    .dataframe thead th {\n",
              "        text-align: right;\n",
              "    }\n",
              "</style>\n",
              "<table border=\"1\" class=\"dataframe\">\n",
              "  <thead>\n",
              "    <tr style=\"text-align: right;\">\n",
              "      <th></th>\n",
              "      <th>delta</th>\n",
              "      <th>gamma</th>\n",
              "      <th>theta</th>\n",
              "      <th>vega</th>\n",
              "      <th>otherPnL</th>\n",
              "      <th>Realized PnL</th>\n",
              "    </tr>\n",
              "  </thead>\n",
              "  <tbody>\n",
              "    <tr>\n",
              "      <th>bumping in Forward rate</th>\n",
              "      <td>+1bp</td>\n",
              "      <td>-1bp,+1bp</td>\n",
              "      <td>-1/365</td>\n",
              "      <td>+1bp</td>\n",
              "      <td>N\\A</td>\n",
              "      <td>N\\A</td>\n",
              "    </tr>\n",
              "    <tr>\n",
              "      <th>Greeks(tick)</th>\n",
              "      <td>0.2977</td>\n",
              "      <td>0.0126</td>\n",
              "      <td>-0.0701</td>\n",
              "      <td>0.1473</td>\n",
              "      <td>N\\A</td>\n",
              "      <td>N\\A</td>\n",
              "    </tr>\n",
              "    <tr>\n",
              "      <th>P&amp;L(tick)</th>\n",
              "      <td>1.4883</td>\n",
              "      <td>0.1569</td>\n",
              "      <td>-0.0701</td>\n",
              "      <td>-0.2718</td>\n",
              "      <td>-0.0533</td>\n",
              "      <td>1.2500</td>\n",
              "    </tr>\n",
              "    <tr>\n",
              "      <th>pct on realized PnL</th>\n",
              "      <td>1.1906</td>\n",
              "      <td>0.1255</td>\n",
              "      <td>-0.0561</td>\n",
              "      <td>-0.2174</td>\n",
              "      <td>-0.0427</td>\n",
              "      <td>1.0000</td>\n",
              "    </tr>\n",
              "  </tbody>\n",
              "</table>\n",
              "</div>"
            ],
            "text/plain": [
              "                         delta      gamma   theta    vega otherPnL Realized PnL\n",
              "bumping in Forward rate   +1bp  -1bp,+1bp  -1/365    +1bp      N\\A          N\\A\n",
              "Greeks(tick)            0.2977     0.0126 -0.0701  0.1473      N\\A          N\\A\n",
              "P&L(tick)               1.4883     0.1569 -0.0701 -0.2718  -0.0533       1.2500\n",
              "pct on realized PnL     1.1906     0.1255 -0.0561 -0.2174  -0.0427       1.0000"
            ]
          },
          "metadata": {
            "tags": []
          },
          "execution_count": 33
        }
      ]
    },
    {
      "cell_type": "markdown",
      "metadata": {
        "id": "WMdKSWgn_wGU"
      },
      "source": [
        "delta-hedge: short delta unit of underlying and long a put"
      ]
    }
  ]
}