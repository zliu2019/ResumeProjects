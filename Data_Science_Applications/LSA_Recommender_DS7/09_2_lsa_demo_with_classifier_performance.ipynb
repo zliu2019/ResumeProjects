{
 "cells": [
  {
   "cell_type": "markdown",
   "metadata": {},
   "source": [
    "# Application of SVD: Latent Semantic Analysis\n",
    "\n",
    "Strategy: given a corpus of articles, we want to create a term-document-type of matrix, for which we can do SVD analysis"
   ]
  },
  {
   "cell_type": "code",
   "execution_count": 1,
   "metadata": {},
   "outputs": [],
   "source": [
    "import pickle\n",
    "import os\n",
    "import time\n",
    "\n",
    "import numpy as np\n",
    "import scipy.sparse.csr as csr\n",
    "import scipy.sparse as sparse\n",
    "from sklearn.base import clone\n",
    "from sklearn.feature_extraction.text import TfidfVectorizer\n",
    "from sklearn.decomposition import TruncatedSVD\n",
    "from sklearn.pipeline import make_pipeline\n",
    "from sklearn.preprocessing import Normalizer\n",
    "from sklearn.neighbors import KNeighborsClassifier\n",
    "\n",
    "import matplotlib.pyplot as plt\n",
    "%matplotlib inline"
   ]
  },
  {
   "cell_type": "markdown",
   "metadata": {},
   "source": [
    "# I. Representing a corpus of documents as a matrix"
   ]
  },
  {
   "cell_type": "markdown",
   "metadata": {},
   "source": [
    "## Bag of Words matrix\n",
    "\n",
    "Following the <a href=\"http://scikit-learn.org/stable/modules/feature_extraction.html\">Sklearn Feature-extraction documentation page</a>\n",
    "\n",
    "- we start with a given **corpus** of $D$ documents.\n",
    "- we preprocess each document and convert it into a list of terms (features)\n",
    "    - by lowercasing first\n",
    "    - accepting only word patterns (defined via regex)\n",
    "- then we form the $CV$ Count-Vectorizer term-frequency matrix defined as:\n",
    "\n",
    "$$\n",
    "\\text{tf}(t, d)\\equiv{CF}_{d,t} = \\text{# times term }t\\text{ occurs in document }d\n",
    "$$\n",
    "\n",
    "\n"
   ]
  },
  {
   "cell_type": "code",
   "execution_count": 2,
   "metadata": {},
   "outputs": [
    {
     "data": {
      "text/plain": [
       "CountVectorizer(analyzer='word', binary=False, decode_error='strict',\n",
       "                dtype=<class 'numpy.int64'>, encoding='utf-8', input='content',\n",
       "                lowercase=True, max_df=1.0, max_features=None, min_df=1,\n",
       "                ngram_range=(1, 1), preprocessor=None, stop_words=None,\n",
       "                strip_accents=None, token_pattern='(?u)\\\\b\\\\w\\\\w+\\\\b',\n",
       "                tokenizer=None, vocabulary=None)"
      ]
     },
     "execution_count": 2,
     "metadata": {},
     "output_type": "execute_result"
    }
   ],
   "source": [
    "from sklearn.feature_extraction.text import CountVectorizer\n",
    "\n",
    "tpatterns = [\n",
    "    '(?u)\\\\b\\\\w\\\\w+\\\\b', #default\n",
    "    '(?u)\\\\b[a-zA-Z]\\\\w+\\\\b',\n",
    "    '\\\\w',\n",
    "    '\\\\w+',\n",
    "    '(?u)\\\\b[a-zA-Z]\\\\w+\\\\b|\\\\b[0-9]\\\\b'\n",
    "]\n",
    "\n",
    "vectorizer = CountVectorizer(token_pattern=tpatterns[0])\n",
    "vectorizer"
   ]
  },
  {
   "cell_type": "markdown",
   "metadata": {},
   "source": [
    "### If you are feeling rusty on your regular expressions, take a look at these examples:\n",
    "https://www.ntu.edu.sg/home/ehchua/programming/howto/Regexe.html"
   ]
  },
  {
   "cell_type": "code",
   "execution_count": 3,
   "metadata": {},
   "outputs": [
    {
     "data": {
      "text/plain": [
       "<4x11 sparse matrix of type '<class 'numpy.int64'>'\n",
       "\twith 21 stored elements in Compressed Sparse Row format>"
      ]
     },
     "execution_count": 3,
     "metadata": {},
     "output_type": "execute_result"
    }
   ],
   "source": [
    "corpus = [\n",
    "    'This is the the first first document abra.',\n",
    "    'This is the second second document cadabra.',\n",
    "    'And the third one 3.',\n",
    "    'Is this the first document 4?',\n",
    "]\n",
    "X_corpus_docterm = vectorizer.fit_transform(corpus)\n",
    "X_corpus_docterm"
   ]
  },
  {
   "cell_type": "code",
   "execution_count": 4,
   "metadata": {},
   "outputs": [
    {
     "data": {
      "text/plain": [
       "['abra',\n",
       " 'and',\n",
       " 'cadabra',\n",
       " 'document',\n",
       " 'first',\n",
       " 'is',\n",
       " 'one',\n",
       " 'second',\n",
       " 'the',\n",
       " 'third',\n",
       " 'this']"
      ]
     },
     "execution_count": 4,
     "metadata": {},
     "output_type": "execute_result"
    }
   ],
   "source": [
    "# note the effect of modifying the token_pattern above....\n",
    "features = vectorizer.get_feature_names() \n",
    "features"
   ]
  },
  {
   "cell_type": "code",
   "execution_count": 5,
   "metadata": {},
   "outputs": [],
   "source": [
    "corpus = [\n",
    "    'This is the the first first document abra.',\n",
    "    'This is the second second document cadabra.',\n",
    "    'And the third one 3.',\n",
    "    'Is this the first document 4?',\n",
    "]"
   ]
  },
  {
   "cell_type": "code",
   "execution_count": 6,
   "metadata": {},
   "outputs": [
    {
     "name": "stdout",
     "output_type": "stream",
     "text": [
      "(?u)\\b\\w\\w+\\b\n",
      "['abra', 'and', 'cadabra', 'document', 'first', 'is', 'one', 'second', 'the', 'third', 'this']\n",
      "\n",
      "\n",
      "(?u)\\b[a-zA-Z]\\w+\\b\n",
      "['abra', 'and', 'cadabra', 'document', 'first', 'is', 'one', 'second', 'the', 'third', 'this']\n",
      "\n",
      "\n",
      "\\w\n",
      "['3', '4', 'a', 'b', 'c', 'd', 'e', 'f', 'h', 'i', 'm', 'n', 'o', 'r', 's', 't', 'u']\n",
      "\n",
      "\n",
      "\\w+\n",
      "['3', '4', 'abra', 'and', 'cadabra', 'document', 'first', 'is', 'one', 'second', 'the', 'third', 'this']\n",
      "\n",
      "\n",
      "(?u)\\b[a-zA-Z]\\w+\\b|\\b[0-9]\\b\n",
      "['3', '4', 'abra', 'and', 'cadabra', 'document', 'first', 'is', 'one', 'second', 'the', 'third', 'this']\n",
      "\n",
      "\n"
     ]
    }
   ],
   "source": [
    "for tp in tpatterns:\n",
    "    vectorizer.token_pattern = tp\n",
    "    print(vectorizer.token_pattern)\n",
    "    X_corpus_docterm = vectorizer.fit_transform(corpus)\n",
    "    features = vectorizer.get_feature_names()\n",
    "    print(features)\n",
    "    print('\\n')\n"
   ]
  },
  {
   "cell_type": "code",
   "execution_count": 7,
   "metadata": {},
   "outputs": [
    {
     "name": "stdout",
     "output_type": "stream",
     "text": [
      "['abra', 'and', 'cadabra', 'document', 'first', 'is', 'one', 'second', 'the', 'third', 'this']\n"
     ]
    }
   ],
   "source": [
    "vectorizer.token_pattern = tpatterns[0] #back to the default\n",
    "X_corpus_docterm = vectorizer.fit_transform(corpus)\n",
    "features = vectorizer.get_feature_names()\n",
    "print(features)"
   ]
  },
  {
   "cell_type": "code",
   "execution_count": 8,
   "metadata": {},
   "outputs": [
    {
     "data": {
      "text/plain": [
       "['This is the the first first document abra.',\n",
       " 'This is the second second document cadabra.',\n",
       " 'And the third one 3.',\n",
       " 'Is this the first document 4?']"
      ]
     },
     "execution_count": 8,
     "metadata": {},
     "output_type": "execute_result"
    }
   ],
   "source": [
    "corpus"
   ]
  },
  {
   "cell_type": "code",
   "execution_count": 9,
   "metadata": {},
   "outputs": [
    {
     "data": {
      "text/plain": [
       "array([[1, 0, 0, 1, 2, 1, 0, 0, 2, 0, 1],\n",
       "       [0, 0, 1, 1, 0, 1, 0, 2, 1, 0, 1],\n",
       "       [0, 1, 0, 0, 0, 0, 1, 0, 1, 1, 0],\n",
       "       [0, 0, 0, 1, 1, 1, 0, 0, 1, 0, 1]], dtype=int64)"
      ]
     },
     "execution_count": 9,
     "metadata": {},
     "output_type": "execute_result"
    }
   ],
   "source": [
    "# This is our document-term matrix CV:\n",
    "CV = X_corpus_docterm.toarray()\n",
    "CV"
   ]
  },
  {
   "cell_type": "markdown",
   "metadata": {},
   "source": [
    "## What if we want to vectorize a document in the test set?\n",
    "\n",
    "E.g. this could even be a document with words not even encountered beforew"
   ]
  },
  {
   "cell_type": "code",
   "execution_count": 10,
   "metadata": {},
   "outputs": [
    {
     "name": "stdout",
     "output_type": "stream",
     "text": [
      "['abra', 'and', 'cadabra', 'document', 'first', 'is', 'one', 'second', 'the', 'third', 'this']\n",
      "\n",
      "\n",
      "rain\n",
      "[[0 0 0 0 0 0 0 0 0 0 0]]\n",
      "\n",
      "\n",
      "The a yoghurt\n",
      "[[0 0 0 0 0 0 0 0 1 0 0]]\n",
      "\n",
      "\n",
      "three two one hurray\n",
      "[[0 0 0 0 0 0 1 0 0 0 0]]\n",
      "\n",
      "\n",
      "and abra document is first cadabra\n",
      "[[1 1 1 1 1 1 0 0 0 0 0]]\n",
      "\n",
      "\n",
      "one-third abra is the first cadabra and this document a second\n",
      "[[1 1 1 1 1 1 1 1 1 1 1]]\n",
      "\n",
      "\n",
      "[[0 0 0 0 0 0 0 0 0 0 0]\n",
      " [0 0 0 0 0 0 0 0 1 0 0]\n",
      " [0 0 0 0 0 0 1 0 0 0 0]\n",
      " [1 1 1 1 1 1 0 0 0 0 0]\n",
      " [1 1 1 1 1 1 1 1 1 1 1]]\n"
     ]
    }
   ],
   "source": [
    "# just call the .transform() method of the trained vectorizer\n",
    "\n",
    "def docs2vec(docs, vectorizer):\n",
    "    return vectorizer.transform(docs)\n",
    "\n",
    "docs_test = [\n",
    "    'rain',\n",
    "    'The a yoghurt',\n",
    "    'three two one hurray',\n",
    "    'and abra document is first cadabra',\n",
    "    'one-third abra is the first cadabra and this document a second',\n",
    "    \n",
    "]\n",
    "\n",
    "print(vectorizer.get_feature_names())\n",
    "\n",
    "for doc in docs_test:\n",
    "    print('\\n')\n",
    "    print(doc)\n",
    "    print(docs2vec([doc], vectorizer).toarray())\n",
    "\n",
    "X_docterm_test = docs2vec(docs_test, vectorizer)\n",
    "print('\\n')\n",
    "print(X_docterm_test.toarray())"
   ]
  },
  {
   "cell_type": "markdown",
   "metadata": {},
   "source": [
    "### Problems with Term-Document matrix:\n",
    "\n",
    "- The document vectors are not normalized \n",
    "    - so can't really compare documents\n",
    "    \n",
    "- The document vectors contain many common english words containing no information\n",
    "    - ideally we want to remove those, e.g. 'the', 'is', etc\n"
   ]
  },
  {
   "cell_type": "markdown",
   "metadata": {},
   "source": [
    "### Solution: TF-IDF vectorizer (see <a href=http://scikit-learn.org/stable/modules/feature_extraction.html> The TF-idf section in the Scikit-Learn feature extraction manual</a>)\n",
    "\n",
    "Instead, let's consider the following matrix\n",
    "\n",
    "$$\n",
    "\\begin{align}\n",
    "\\text{tf-idf}(t,d) &\\equiv{\\text{tf}}(t,d)\\times\\text{idf}(t)\\\\\n",
    "\\text{idf}(t)&\\equiv\\log\\frac{1+n_d}{1+\\text{df}(d,t)} + 1\n",
    "\\end{align}\n",
    "$$\n",
    "\n",
    "where \n",
    "\n",
    "- $\\text{df}(d,t)$ is the number of documents containing feature $t$\n",
    "- the rows of the tf-idf matrix are normalized to have unit norm (either $L_1$ or $L_2$)\n",
    "    - this way we can compare documents by the norm of their doc2vec overlaps\n",
    "    \n",
    "Let's see this in practice"
   ]
  },
  {
   "cell_type": "code",
   "execution_count": 11,
   "metadata": {},
   "outputs": [
    {
     "name": "stdout",
     "output_type": "stream",
     "text": [
      "blah abra cadabra\n",
      "blah abra cadabra\n",
      "blah abra \n",
      "blah abra \n",
      "blah abra \n",
      "blah abra \n",
      "blah abra \n",
      "blah abra \n",
      "blah abra \n",
      "blah abra \n"
     ]
    }
   ],
   "source": [
    "vectorizer = TfidfVectorizer(\n",
    "    stop_words='english',\n",
    "    norm='l2', # each output vector has l2 norm equal to 1\n",
    "    use_idf=True)\n",
    "\n",
    "# create a corpus with various levels of repetition of its terms\n",
    "N = 1000\n",
    "corpus = np.reshape(['blah', 'abra', 'cadabra'] * N, (N,3))\n",
    "corpus[2:,2] = ''\n",
    "corpus[int(N/2):,1] = ''\n",
    "corpus = [' '.join(corpus[i]) for i in range(N)]\n",
    "\n",
    "print('\\n'.join(corpus[:10]))\n"
   ]
  },
  {
   "cell_type": "code",
   "execution_count": 12,
   "metadata": {},
   "outputs": [
    {
     "name": "stdout",
     "output_type": "stream",
     "text": [
      "['abra', 'blah', 'cadabra']\n"
     ]
    },
    {
     "data": {
      "text/plain": [
       "array([[0.23873034, 0.14108119, 0.96078297],\n",
       "       [0.23873034, 0.14108119, 0.96078297],\n",
       "       [0.86090559, 0.50876474, 0.        ],\n",
       "       [0.86090559, 0.50876474, 0.        ],\n",
       "       [0.86090559, 0.50876474, 0.        ],\n",
       "       [0.86090559, 0.50876474, 0.        ],\n",
       "       [0.86090559, 0.50876474, 0.        ],\n",
       "       [0.86090559, 0.50876474, 0.        ],\n",
       "       [0.86090559, 0.50876474, 0.        ],\n",
       "       [0.86090559, 0.50876474, 0.        ]])"
      ]
     },
     "execution_count": 12,
     "metadata": {},
     "output_type": "execute_result"
    }
   ],
   "source": [
    "X_corpus_tfidf=vectorizer.fit_transform(corpus)\n",
    "\n",
    "print(vectorizer.get_feature_names()) \n",
    "\n",
    "# what happens to the weight of 'cadabra' when we vary N?\n",
    "# what happens to the weight of 'blah' and 'abra'?\n",
    "# can you explain?\n",
    "X_corpus_tfidf.toarray()[:10,:]"
   ]
  },
  {
   "cell_type": "markdown",
   "metadata": {},
   "source": [
    "# II. Latent Semantic Analysis\n",
    "\n",
    "## Or Truncated SVD on the TF-IDF matrix\n",
    "\n",
    "**The Following code is based on <a href=\"http://scikit-learn.org/stable/auto_examples/applications/plot_out_of_core_classification.html\">Scikit-Learn's Reuters Dataset TF-IDF + K-NN classification example</a> along with <a href=\"http://mccormickml.com/2016/03/25/lsa-for-text-classification-tutorial/\">Chris McCormic's LSA tutorial</a> and his <a href=\"https://github.com/chrisjmccormick/LSA_Classification\">github page</a>. The original Reuter's 21578 dataset is part of the <a href=\"http://archive.ics.uci.edu/ml/machine-learning-databases\">UCI-ML</a> repository and can be found <a href=\"http://archive.ics.uci.edu/ml/machine-learning-databases/reuters21578-mld/reuters21578.tar.gz\">here</a>. However, in this demo we are using the already <a href=\"https://github.com/chrisjmccormick/LSA_Classification/tree/master/data\">pre-processed</a> version in Chris McCormic's github page**\n",
    "\n",
    "\n",
    "### Let's look at some real data - the Reuters Articles Corpus\n"
   ]
  },
  {
   "cell_type": "code",
   "execution_count": 13,
   "metadata": {},
   "outputs": [
    {
     "name": "stdout",
     "output_type": "stream",
     "text": [
      "Number of train docs: 4743 Number of test docs: 4858\n",
      "\n",
      "Example train labels: [['cocoa', 'el-salvador', 'usa', 'uruguay'], ['usa'], ['usa'], ['usa', 'brazil']]\n"
     ]
    }
   ],
   "source": [
    "fname = \"raw_text_dataset.pickle\"\n",
    "filepath = os.getcwd() + '/' + fname\n",
    "raw_text_dataset = pickle.load(open(filepath, \"rb\"))\n",
    "corpus_train, labels_train = raw_text_dataset[0], raw_text_dataset[1] \n",
    "corpus_test, labels_test = raw_text_dataset[2], raw_text_dataset[3]\n",
    "\n",
    "print('Number of train docs:', len(corpus_train), 'Number of test docs:', len(corpus_test))\n",
    "print('\\nExample train labels:', labels_train[:4])\n"
   ]
  },
  {
   "cell_type": "code",
   "execution_count": 14,
   "metadata": {},
   "outputs": [
    {
     "name": "stdout",
     "output_type": "stream",
     "text": [
      "\n",
      "This is how a article  1215  looks like:\n",
      "\n",
      " U.S. OFFICIALS SAY BRAZIL SHOULD DEAL WITH BANKS\n",
      "\n",
      "The U.S. is sticking for the moment to its policy that Brazil, which two weeks ago suspended debt payments to private banks, should deal with its creditors and not with governments, U.S. officials said. \"I don't see any desire here to scurry around and help Brazil until we get a better sense of what they are trying to do,\" a senior administration official stated. \"Brazil has to do business through the banks at this point,\" said another official f\n",
      "\n",
      "And these are its topic labels:\n",
      "\n",
      " ['usa', 'brazil']\n"
     ]
    }
   ],
   "source": [
    "# n = 4610\n",
    "# n = 1238\n",
    "n = np.random.choice(len(corpus_train))\n",
    "\n",
    "print('\\nThis is how a article ', n,' looks like:\\n\\n', \n",
    "      corpus_train[n][:500])\n",
    "\n",
    "print('\\nAnd these are its topic labels:\\n\\n', \n",
    "      labels_train[n][:500])"
   ]
  },
  {
   "cell_type": "markdown",
   "metadata": {},
   "source": [
    "### TF-IDF vectorizer step:\n",
    "The TfidfVectorizer below does the following:\n",
    "- TF Step\n",
    "    - Strips out “stop words”, e.g. frequently occuring english words\n",
    "    - Filters out terms that occur in more than half of the docs\n",
    "    (max_df=0.5)\n",
    "    - Filters out terms that occur in only one document (min_df=2).\n",
    "    - Selects the 10,000 most frequently occuring words in the corpus.\n",
    "    - Normalizes the vector to account for the effect of document\n",
    "    length on the tf-idf values. Here we use l1 norm which normalized\n",
    "    by the document length\n",
    "- IDF Step\n",
    "    - Nomalize each \n",
    "    \n"
   ]
  },
  {
   "cell_type": "code",
   "execution_count": 15,
   "metadata": {},
   "outputs": [
    {
     "name": "stdout",
     "output_type": "stream",
     "text": [
      "(4743, 10000)\n",
      "  (0, 5710)\t0.05358629431494884\n",
      "  (0, 2989)\t0.042980702720634215\n",
      "  (0, 1451)\t0.052634610119544935\n",
      "  (0, 1808)\t0.026478702368377405\n",
      "  (0, 9103)\t0.02464733574105581\n",
      "  (0, 1229)\t0.037703838406723186\n",
      "  (0, 7097)\t0.040014708994307806\n",
      "  (0, 3195)\t0.024456808013548024\n",
      "  (0, 3407)\t0.033158230110480046\n",
      "  (0, 3094)\t0.029693538441301827\n",
      "  (0, 2264)\t0.031107907139437174\n",
      "  (0, 8026)\t0.03017253820022718\n",
      "  (0, 5223)\t0.057574701013995304\n",
      "  (0, 2081)\t0.03203480158937882\n",
      "  (0, 584)\t0.0408163446026406\n",
      "  (0, 1353)\t0.039573720230202565\n",
      "  (0, 7389)\t0.040014708994307806\n",
      "  (0, 9466)\t0.11196869392754896\n",
      "  (0, 581)\t0.07125231261119101\n",
      "  (0, 2262)\t0.0646762517219769\n",
      "  (0, 2511)\t0.047262444839431\n",
      "  (0, 2358)\t0.2201037138407704\n",
      "  (0, 6247)\t0.14446346443774985\n",
      "  (0, 9010)\t0.2588242473868043\n",
      "  (0, 9774)\t0.04480475130168706\n",
      "  :\t:\n",
      "  (4740, 6733)\t0.07494726785190321\n",
      "  (4740, 3416)\t0.06782020762551738\n",
      "  (4740, 2707)\t0.03519916237750981\n",
      "  (4740, 5806)\t0.03360397777205898\n",
      "  (4740, 7678)\t0.09365372835398214\n",
      "  (4741, 1653)\t0.4881436727454991\n",
      "  (4741, 7137)\t0.27355496430648246\n",
      "  (4741, 2686)\t0.2558745729191131\n",
      "  (4741, 2699)\t0.252421309088068\n",
      "  (4741, 3702)\t0.2304808865741124\n",
      "  (4741, 6945)\t0.24188956256464855\n",
      "  (4741, 9649)\t0.17586416659236054\n",
      "  (4741, 2250)\t0.33945283490874567\n",
      "  (4741, 6538)\t0.2250246154641523\n",
      "  (4741, 1821)\t0.21967755882802203\n",
      "  (4741, 8503)\t0.18240248705720039\n",
      "  (4741, 2119)\t0.1424443368188135\n",
      "  (4741, 557)\t0.38399391446635395\n",
      "  (4742, 3627)\t0.5364668670080747\n",
      "  (4742, 7691)\t0.24027739834242703\n",
      "  (4742, 9649)\t0.5638048122661041\n",
      "  (4742, 2250)\t0.3627518244474405\n",
      "  (4742, 8156)\t0.2102270627997663\n",
      "  (4742, 6056)\t0.376394494705806\n",
      "  (4742, 9951)\t0.13833685841349658\n",
      "first 10 features: ['a300', 'a330', 'a340', 'aa', 'aaa', 'aapl', 'ab', 'abandon', 'abandoned', 'abandonment']\n",
      "last 10 features: ['zinc', 'zntl', 'zoete', 'zone', 'zones', 'zorinsky', 'zortman', 'zuckerman', 'zurich', 'zy']\n"
     ]
    }
   ],
   "source": [
    "vectorizer = TfidfVectorizer(\n",
    "    max_df=0.5, # ignore terms which occur in more than half of the documents\n",
    "    max_features=10000,\n",
    "    min_df=2, # ignore terms which occur in less than 2 documents\n",
    "    stop_words='english',\n",
    "    norm='l2',\n",
    "    use_idf=True, \n",
    "    analyzer='word',\n",
    "#     token_pattern='(?u)\\\\b\\\\w\\\\w+\\\\b'\n",
    "    token_pattern = '(?u)\\\\b[a-zA-Z]\\\\w+\\\\b'\n",
    "    )\n",
    "\n",
    "# note how changing the token_pattern changes the output below\n",
    "X_train_tfidf = vectorizer.fit_transform(corpus_train)\n",
    "print(X_train_tfidf.shape)\n",
    "print(X_train_tfidf)\n",
    "print('first 10 features:', vectorizer.get_feature_names()[:10])\n",
    "print('last 10 features:', vectorizer.get_feature_names()[-10:])"
   ]
  },
  {
   "cell_type": "code",
   "execution_count": 16,
   "metadata": {},
   "outputs": [
    {
     "name": "stdout",
     "output_type": "stream",
     "text": [
      "10  documents found for target word:  cocoa\n",
      "document  0 :\n",
      "BAHIA COCOA REVIEW\n",
      "\n",
      "Showers continued throughout the week in the Bahia cocoa zone, alleviating the drought since early January and improving prospects for the coming temporao, although normal humidity levels have not been restored, Comissaria Smith said in its weekly review. The dry period means the temporao will be late this year. Arrivals for the week ended February 22 were 155,221 bags of 60 kilos making a cumulative total for the season of 5.93 mln against 5.81 at the same stage last year. Again it seems that cocoa delivered earlier on consignment was included in the arrivals figures. Comissaria Smith said there is still some doubt as to how much old crop cocoa is still available as harvesting has practically come to an end. With total Bahia crop estimates around 6.4 mln bags and sales standing at almost 6.2 mln there are a few hundred thousand bags still in the hands of farmers, middlemen, exporters and processors. There are doubts as to how much of this cocoa would be fit for exp\n"
     ]
    }
   ],
   "source": [
    "# let's look at documents that contain a target wordthe word '\n",
    "# target_word = 'bullish'\n",
    "target_word = 'cocoa'\n",
    "\n",
    "doc_idx = X_train_tfidf[\n",
    "    :, vectorizer.vocabulary_.get(target_word)].nonzero()[0].tolist()\n",
    "print(len(doc_idx), ' documents found for target word: ', target_word)\n",
    "i = np.random.choice(len(doc_idx))\n",
    "print('document ', doc_idx[i], ':')\n",
    "print(corpus_train[doc_idx[i]][:1000])"
   ]
  },
  {
   "cell_type": "code",
   "execution_count": 17,
   "metadata": {},
   "outputs": [
    {
     "data": {
      "text/plain": [
       "<4743x10000 sparse matrix of type '<class 'numpy.float64'>'\n",
       "\twith 217725 stored elements in Compressed Sparse Row format>"
      ]
     },
     "execution_count": 17,
     "metadata": {},
     "output_type": "execute_result"
    }
   ],
   "source": [
    "X_train_tfidf"
   ]
  },
  {
   "cell_type": "code",
   "execution_count": 18,
   "metadata": {},
   "outputs": [
    {
     "name": "stdout",
     "output_type": "stream",
     "text": [
      "\n",
      "Performing dimensionality reduction using LSA\n",
      "  done in 1.388sec\n"
     ]
    }
   ],
   "source": [
    "print(\"\\nPerforming dimensionality reduction using LSA\")\n",
    "t0 = time.time()\n",
    "\n",
    "# Project the tfidf vectors onto the first N principal components.\n",
    "# Though this is significantly fewer features than the original tfidf vector,\n",
    "# they are stronger features, and the accuracy is higher.\n",
    "svd = TruncatedSVD(\n",
    "    n_components=200,\n",
    "    random_state=42,\n",
    "#     algorithm='arpack'\n",
    ")\n",
    "\n",
    "lsa = make_pipeline(\n",
    "    svd, \n",
    "#     Normalizer(copy=False) # try commenting this out. Do you get a better result?\n",
    ")\n",
    "\n",
    "# Run SVD on the training data, then project the training data.\n",
    "X_train_lsa = lsa.fit_transform(X_train_tfidf)\n",
    "\n",
    "print(\"  done in %.3fsec\" % (time.time() - t0))"
   ]
  },
  {
   "cell_type": "code",
   "execution_count": 19,
   "metadata": {},
   "outputs": [
    {
     "name": "stdout",
     "output_type": "stream",
     "text": [
      "  Explained variance of the SVD step: 39%\n"
     ]
    }
   ],
   "source": [
    "explained_variance = svd.explained_variance_ratio_.sum()\n",
    "print(\"  Explained variance of the SVD step: {}%\".format(int(explained_variance * 100)))\n",
    "\n",
    "# Now apply the transformations to the test data as well.\n",
    "# note that we are using the transform method only\n",
    "X_test_tfidf = vectorizer.transform(corpus_test)\n",
    "X_test_lsa = lsa.transform(X_test_tfidf)"
   ]
  },
  {
   "cell_type": "code",
   "execution_count": 20,
   "metadata": {},
   "outputs": [
    {
     "data": {
      "text/plain": [
       "((4858, 200), (4858, 10000))"
      ]
     },
     "execution_count": 20,
     "metadata": {},
     "output_type": "execute_result"
    }
   ],
   "source": [
    "X_test_lsa.shape, X_test_tfidf.shape"
   ]
  },
  {
   "cell_type": "markdown",
   "metadata": {},
   "source": [
    "### Let's improve a K-nn classifier using LSA"
   ]
  },
  {
   "cell_type": "code",
   "execution_count": 21,
   "metadata": {},
   "outputs": [
    {
     "name": "stdout",
     "output_type": "stream",
     "text": [
      "590 articles found with target_label = acq\n"
     ]
    }
   ],
   "source": [
    "# The Reuters dataset consists of ~100 categories. However, we are going to\n",
    "# simplify this to a binary classification problem. The 'positive class' will\n",
    "# be the articles related to a given target label. All\n",
    "# other articles will be negative.\n",
    "\n",
    "target_label = 'acq'\n",
    "# target_label = 'earn'\n",
    "# target_label = 'corn'\n",
    "\n",
    "\n",
    "y_train = [target_label in y for y in labels_train]\n",
    "y_test = [target_label in y for y in labels_test]\n",
    "\n",
    "print(np.array(y_train).sum(), 'articles found with target_label =', target_label)"
   ]
  },
  {
   "cell_type": "code",
   "execution_count": 22,
   "metadata": {
    "scrolled": true
   },
   "outputs": [
    {
     "name": "stdout",
     "output_type": "stream",
     "text": [
      "\n",
      "Classifying tfidf vectors...\n",
      "  (4467 / 4858) correct - 91.95%\n",
      "  done in 1.132sec\n"
     ]
    }
   ],
   "source": [
    "print(\"\\nClassifying tfidf vectors...\")\n",
    "\n",
    "# Time this step.\n",
    "t0 = time.time()\n",
    "\n",
    "# Build a k-NN classifier. Use k = 5 (majority wins), the cosine distance, \n",
    "# and brute-force calculation of distances.\n",
    "knn_tfidf = KNeighborsClassifier(\n",
    "    n_neighbors=5, algorithm='brute', metric='cosine')\n",
    "knn_tfidf.fit(X_train_tfidf, y_train)\n",
    "\n",
    "# Classify the test vectors.\n",
    "p_tfidf = knn_tfidf.predict(X_test_tfidf)\n",
    "\n",
    "# Measure accuracy\n",
    "numRight = 0;\n",
    "for i in range(0,len(p_tfidf)):\n",
    "    if p_tfidf[i] == y_test[i]:\n",
    "        numRight += 1\n",
    "\n",
    "print(\"  (%d / %d) correct - %.2f%%\" % (numRight, len(y_test), float(numRight) / float(len(y_test)) * 100.0))\n",
    "\n",
    "# Calculate the elapsed time (in seconds)\n",
    "elapsed = (time.time() - t0)\n",
    "print(\"  done in %.3fsec\" % elapsed)"
   ]
  },
  {
   "cell_type": "code",
   "execution_count": 23,
   "metadata": {},
   "outputs": [
    {
     "name": "stdout",
     "output_type": "stream",
     "text": [
      "\n",
      "Classifying LSA vectors...\n",
      "  (4556 / 4858) correct - 93.78%\n",
      "    done in 0.702sec\n"
     ]
    }
   ],
   "source": [
    "print(\"\\nClassifying LSA vectors...\")\n",
    "\n",
    "# Time this step.\n",
    "t0 = time.time()\n",
    "\n",
    "# Build a k-NN classifier. Use k = 5 (majority wins), the cosine distance, \n",
    "# and brute-force calculation of distances.\n",
    "knn_lsa = KNeighborsClassifier(\n",
    "    n_neighbors=5, algorithm='brute', metric='cosine')\n",
    "knn_lsa.fit(\n",
    "    X_train_lsa, \n",
    "#     np.c_[X_train_lsa, X_train_tfidf.toarray()],\n",
    "    y_train)\n",
    "\n",
    "# Classify the test vectors.\n",
    "p = knn_lsa.predict(\n",
    "    X_test_lsa\n",
    "#     np.c_[X_test_lsa, X_test_tfidf.toarray()],\n",
    ")\n",
    "\n",
    "# Measure accuracy\n",
    "numRight = 0;\n",
    "for i in range(0,len(p)):\n",
    "    if p[i] == y_test[i]:\n",
    "        numRight += 1\n",
    "\n",
    "print(\"  (%d / %d) correct - %.2f%%\" % (numRight, len(y_test), float(numRight) / float(len(y_test)) * 100.0))\n",
    "\n",
    "# Calculate the elapsed time (in seconds)\n",
    "elapsed = (time.time() - t0)    \n",
    "print(\"    done in %.3fsec\" % elapsed)\n"
   ]
  },
  {
   "cell_type": "code",
   "execution_count": 24,
   "metadata": {},
   "outputs": [
    {
     "data": {
      "image/png": "[encoded data removed]",
      "text/plain": [
       "<Figure size 576x576 with 1 Axes>"
      ]
     },
     "metadata": {
      "needs_background": "light"
     },
     "output_type": "display_data"
    }
   ],
   "source": [
    "from sklearn.model_selection import cross_val_predict\n",
    "from sklearn.metrics import confusion_matrix\n",
    "from sklearn.metrics import roc_curve\n",
    "\n",
    "\n",
    "def plot_roc_curve(ax, fpr, tpr, label=None):\n",
    "    ax.plot(fpr, tpr, linewidth=2, label=label)\n",
    "    if label is not None:\n",
    "        ax.legend()\n",
    "    ax.plot([0, 1], [0, 1], 'k--')\n",
    "    plt.axis([0, 1, 0, 1])\n",
    "    plt.xlabel('False Positive Rate', fontsize=16)\n",
    "    plt.ylabel('True Positive Rate', fontsize=16)\n",
    "\n",
    "models = {'knn_tfidf': knn_tfidf, 'knn_lsa': knn_lsa}\n",
    "features_train = {'knn_tfidf': X_train_tfidf, 'knn_lsa': X_train_lsa}    \n",
    "\n",
    "for i, mname in enumerate(models.keys()):\n",
    "    p_scores = cross_val_predict(models[mname], features_train[mname], y_train, cv=10,\n",
    "                             method=\"predict_proba\")\n",
    "\n",
    "    # hack to work around issue #9589 introduced in Scikit-Learn 0.19.0\n",
    "    # see https://github.com/scikit-learn/scikit-learn/issues/9589\n",
    "    if p_scores.ndim == 2:\n",
    "        p_scores = p_scores[:, 1]\n",
    "    \n",
    "    fpr, tpr, thresholds = roc_curve(y_train, p_scores)\n",
    "\n",
    "    if i == 0:\n",
    "        fig, ax = plt.subplots(1,1, figsize=(8,8))\n",
    "    plot_roc_curve(ax, fpr, tpr, label=mname)\n",
    "\n",
    "plt.show()"
   ]
  },
  {
   "cell_type": "code",
   "execution_count": 25,
   "metadata": {},
   "outputs": [
    {
     "data": {
      "text/plain": [
       "array([0. , 0. , 0.2, ..., 0. , 0. , 0. ])"
      ]
     },
     "execution_count": 25,
     "metadata": {},
     "output_type": "execute_result"
    }
   ],
   "source": [
    "p_scores"
   ]
  },
  {
   "cell_type": "code",
   "execution_count": null,
   "metadata": {},
   "outputs": [],
   "source": []
  }
 ],
 "metadata": {
  "kernelspec": {
   "display_name": "Python 3",
   "language": "python",
   "name": "python3"
  },
  "language_info": {
   "codemirror_mode": {
    "name": "ipython",
    "version": 3
   },
   "file_extension": ".py",
   "mimetype": "text/x-python",
   "name": "python",
   "nbconvert_exporter": "python",
   "pygments_lexer": "ipython3",
   "version": "3.6.9"
  }
 },
 "nbformat": 4,
 "nbformat_minor": 2
}
