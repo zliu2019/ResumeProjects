{
 "metadata": {
  "language_info": {
   "codemirror_mode": {
    "name": "ipython",
    "version": 3
   },
   "file_extension": ".py",
   "mimetype": "text/x-python",
   "name": "python",
   "nbconvert_exporter": "python",
   "pygments_lexer": "ipython3",
   "version": "3.6.9-final"
  },
  "orig_nbformat": 2,
  "kernelspec": {
   "name": "python3",
   "display_name": "Python 3",
   "language": "python"
  }
 },
 "nbformat": 4,
 "nbformat_minor": 2,
 "cells": [
  {
   "source": [
    "### Section C) \n",
    "\n",
    "Write a Python program to find \n",
    "\n",
    "1. the value of $\\sqrt 300$ using Newton-Raphson method. \n",
    "\n",
    "2. the value of $x$ in following equation (Using Newton-Raphson method)\n",
    "$$𝑥^3𝑒^{−𝑥^2}=0$$\n"
   ],
   "cell_type": "markdown",
   "metadata": {}
  },
  {
   "source": [
    "Solution:\n",
    "\n",
    "Some methods:\n",
    "\n",
    "- Bisection\n",
    "- Method of False Position\n",
    "\n",
    "Comparison:\n",
    "\n",
    "- In previous methods, we were given an interval. Here we are required an initial guess value of root.\n",
    "- The previous two methods are guaranteed to converge, Newton Rahhson may not converge in some cases.\n",
    "- Newton Raphson method requires derivative. Some functions may be difficult to\n",
    "impossible to differentiate.\n",
    "- For many problems, Newton Raphson method converges faster than the above two methods.\n",
    "- Also, it can identify repeated roots, since it does not look for changes in the sign of f(x) explicitly\n",
    " \n",
    "Formula:\n",
    "\n",
    "$$x_{n+1} = x_{n} - \\frac{f(x_n)}{f'(x_n)}$$\n",
    "\n",
    "Algorithm:\n",
    "\n",
    "Input: initial x, func(x), derivFunc(x)\n",
    "\n",
    "Output: Root of Func()\n",
    "\n",
    "1. Compute values of func(x) and derivFunc(x) for given initial x\n",
    "\n",
    "2. Compute h: h = func(x) / derivFunc(x)\n",
    "3. While h is greater than allowed error ε\n",
    "\n",
    "    a) h = func(x) / derivFunc(x)\n",
    "    \n",
    "    b) x = x – h"
   ],
   "cell_type": "markdown",
   "metadata": {}
  },
  {
   "cell_type": "code",
   "execution_count": 1,
   "metadata": {},
   "outputs": [
    {
     "output_type": "stream",
     "name": "stdout",
     "text": [
      "The value of the root is :  -1.0000\n"
     ]
    }
   ],
   "source": [
    "# An example function whose solution  \n",
    "# is determined using Bisection Method.  \n",
    "# The function is x^3 - x^2 + 2 \n",
    "def func( x ): \n",
    "    return x * x * x - x * x + 2\n",
    "  \n",
    "# Derivative of the above function  \n",
    "# which is 3*x^x - 2*x \n",
    "def derivFunc( x ): \n",
    "    return 3 * x * x - 2 * x \n",
    "  \n",
    "# Function to find the root \n",
    "def newtonRaphson( x ): \n",
    "    h = func(x) / derivFunc(x) \n",
    "    while abs(h) >= 0.0001: \n",
    "        h = func(x)/derivFunc(x) \n",
    "          \n",
    "        # x(i+1) = x(i) - f(x) / f'(x) \n",
    "        x = x - h \n",
    "      \n",
    "    print(\"The value of the root is : \", \n",
    "                             \"%.4f\"% x) \n",
    "  \n",
    "# Driver program to test above \n",
    "x0 = -20 # Initial values assumed \n",
    "newtonRaphson(x0) "
   ]
  },
  {
   "cell_type": "code",
   "execution_count": 4,
   "metadata": {},
   "outputs": [
    {
     "output_type": "stream",
     "name": "stdout",
     "text": [
      "The value of the root is :  17.3205\n"
     ]
    }
   ],
   "source": [
    "def myf(x):\n",
    "    return x**2 -300\n",
    "\n",
    "def myfd( x ): \n",
    "    return 2 * x \n",
    "\n",
    "def newtonRaphson( x ): \n",
    "    h = myf(x) / myfd(x) \n",
    "    while abs(h) >= 0.0001: \n",
    "        h = myf(x) / myfd(x) \n",
    "          \n",
    "        # x(i+1) = x(i) - f(x) / f'(x) \n",
    "        x = x - h \n",
    "      \n",
    "    print(\"The value of the root is : \", \n",
    "                             \"%.4f\"% abs(x)) \n",
    "x0 = -15 # Initial values assumed \n",
    "newtonRaphson(x0) "
   ]
  },
  {
   "cell_type": "code",
   "execution_count": 15,
   "metadata": {},
   "outputs": [
    {
     "output_type": "execute_result",
     "data": {
      "text/plain": [
       "27"
      ]
     },
     "metadata": {},
     "execution_count": 15
    }
   ],
   "source": [
    "from sympy import *\n",
    "import numpy as numpy\n",
    "def myfd(x): \n",
    "    z = Symbol('z')\n",
    "    y = z**3\n",
    "    yprime = y.diff(z)\n",
    "    f = lambdify(z, yprime, 'numpy')\n",
    "    return f(x)\n",
    "myfd(3)"
   ]
  },
  {
   "cell_type": "code",
   "execution_count": 9,
   "metadata": {},
   "outputs": [
    {
     "output_type": "stream",
     "name": "stdout",
     "text": [
      "Fail to converge before reaching maximum iterations.\n"
     ]
    }
   ],
   "source": [
    "#import sympy as sp\n",
    "import numpy as np\n",
    "\n",
    "def myf(x):\n",
    "    return x**3 * np.exp(-x**2)\n",
    "\n",
    "\n",
    "def myfd( x ): \n",
    "    #z = sp.Symbol('z')\n",
    "    #y = z**3 * sp.exp(-z**2)\n",
    "    #yprime = y.diff(z)\n",
    "    #f = sp.lambdify(z, yprime, 'numpy')\n",
    "    #return f(x)\n",
    "    return (-2*x**4*np.exp(-x**2) + 3*x**2*np.exp(-x**2))\n",
    "\n",
    "def newtonRaphson(x): \n",
    "    p0 = 0.02\n",
    "    h = p0 - myf(x) / myfd(x) \n",
    "    i = 0\n",
    "    while abs(h) >= 0.0001: \n",
    "        p0 = h\n",
    "        h = p0 - myf(x) / myfd(x) \n",
    "          \n",
    "        # x(i+1) = x(i) - f(x) / f'(x) \n",
    "        \n",
    "        i+=1\n",
    "        if i>=2000:\n",
    "            print('Fail to converge before reaching maximum iterations.')\n",
    "            return \n",
    "        else:\n",
    "            continue\n",
    "      \n",
    "    print(\"The value of the root is : \", \n",
    "                             \"%.4f\"% abs(x)) \n",
    "x0 = 1 # Initial values assumed \n",
    "newtonRaphson(x0) "
   ]
  }
 ]
}