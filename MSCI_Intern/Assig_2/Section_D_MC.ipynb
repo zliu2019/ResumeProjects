{
 "metadata": {
  "language_info": {
   "codemirror_mode": {
    "name": "ipython",
    "version": 3
   },
   "file_extension": ".py",
   "mimetype": "text/x-python",
   "name": "python",
   "nbconvert_exporter": "python",
   "pygments_lexer": "ipython3",
   "version": "3.6.9-final"
  },
  "orig_nbformat": 2,
  "kernelspec": {
   "name": "python3",
   "display_name": "Python 3",
   "language": "python"
  }
 },
 "nbformat": 4,
 "nbformat_minor": 2,
 "cells": [
  {
   "source": [
    "Section D)\n",
    "\n",
    "Write a Python program to compute the value of an American styled option written on non-dividend paying stock. Recall that an American option is an option that can be exercised any time before maturity.\n",
    "\n",
    "Use the Monte Carlo methodology for pricing the option. Assume required data. "
   ],
   "cell_type": "markdown",
   "metadata": {}
  },
  {
   "source": [
    "Pricing American Options:\n",
    "- Analytical Approximation\n",
    "- Binomial Tree\n",
    "- Monte Carlo\n",
    "\n",
    "An exact analytical solution exists for European options, such as BS.  \n",
    "\n",
    "For American options, however, we have to use numerical methods.\n",
    "- Binomial Tree (i.e. Lattice) or approximations:\n",
    "    \n",
    "    - an accurate one\n",
    "    \n",
    "    - main drawback: slow and complex maybe. implementation of a more complex option payoff is difficult, especially when the payoff is path-dependent. For example, for an American double-average option with periodic sampling time points, the strike price is not known at the start of the option.  It can only be determined in the future and is therefore path-dependent.  Another example is an American forward start option. These options cannot be valued using the binomial tree approach.\n",
    "\n",
    "- Barone-Andesi-Whaley Analytical Approx with BS:\n",
    "    \n",
    "    - Consequently, several researchers have developed approximate solutions that are faster. In this example we’re going to use the Barone-Andesi-Whaley approximation, which takes the value computed by the Black-Scholes Model and adds the value of the early exercise option that is available on American option. The Barone-Adesi and Whaley Model has the advantages of being fast, accurate and inexpensive to use. It is most accurate for options that will expire in less than one year.\n",
    "\n",
    "- Monte Carlo simulation:\n",
    "    - This method will allow us to implement more complex option payoffs with greater flexibility, even if the payoffs are path-dependent. \n",
    "    \n",
    "    - Specifically, we use the Least-Squares Method of Longstaff and Schwartz in order to take into account the early exercise feature.  \n",
    "    - The stock price is assumed to follow the Geometrical Brownian Motion and the dividend is simulated continuously.\n",
    "\n",
    "    - IDEA:\n",
    "    \n",
    "    Using this approach, it would be optimal to exercise the option if the immediate payment is larger than the expected future cash flows, otherwise it should be kept.  \n",
    "    \n",
    "    Specifically, for each generated path, we regress the future payoffs on the basis functions of S and S2. The regression equation provides us with estimation for the expected value of future payoffs as a function of S and S2. This expected value is the value of holding on to the option, i.e. the continuation value. Using the regression equation, we can decide if it is preferable to exercise the option immediately or to wait one more period. This procedure is repeated backward from the maturity date to the time zero. Finally, the price of the option is calculated as the average value of all the discounted payoffs."
   ],
   "cell_type": "markdown",
   "metadata": {}
  },
  {
   "source": [
    "\n",
    "\n"
   ],
   "cell_type": "markdown",
   "metadata": {}
  },
  {
   "cell_type": "code",
   "execution_count": 2,
   "metadata": {},
   "outputs": [
    {
     "output_type": "stream",
     "name": "stdout",
     "text": [
      "European option price is  3.235252138808746\n",
      "MC American option price is  3.2819352096497094\n"
     ]
    }
   ],
   "source": [
    "# valuing an American option\n",
    "# !pip install QuantLib\n",
    "from QuantLib import *\n",
    "\n",
    "valuation_date = Date(22, 8, 2018)\n",
    "Settings.instance().evaluationDate = valuation_date+2\n",
    "\n",
    "calendar = Canada()\n",
    "volatility = 42.66/100\n",
    "day_count = Actual365Fixed()\n",
    "\n",
    "underlying = 13.5\n",
    "risk_free_rate = 2.13/100\n",
    "dividend_rate = 1.2/100\n",
    "\n",
    "exercise_date = Date(22, 8, 2021)\n",
    "strike = 13\n",
    "option_type = Option.Put\n",
    "\n",
    "payoff = PlainVanillaPayoff(option_type, strike)\n",
    "exercise = EuropeanExercise(exercise_date)\n",
    "european_option = VanillaOption(payoff, exercise)\n",
    "\n",
    "spot_handle = QuoteHandle(SimpleQuote(underlying))\n",
    "\n",
    "flat_ts = YieldTermStructureHandle(FlatForward(valuation_date,risk_free_rate,day_count))\n",
    "dividend_yield = YieldTermStructureHandle(FlatForward(valuation_date,dividend_rate,day_count))\n",
    "flat_vol_ts = BlackVolTermStructureHandle(BlackConstantVol(valuation_date,calendar,volatility,day_count))\n",
    "bsm_process = BlackScholesMertonProcess(spot_handle,dividend_yield,flat_ts,flat_vol_ts)\n",
    "\n",
    "# European option\n",
    "european_option.setPricingEngine(AnalyticEuropeanEngine(bsm_process))\n",
    "bs_price = european_option.NPV()\n",
    "print(\"European option price is \", bs_price)\n",
    "\n",
    "\n",
    "# American option MC\n",
    "MC_engine = MCAmericanEngine(bsm_process, 'PseudoRandom', timeSteps=50, polynomOrder=5, seedCalibration=42, requiredSamples=10 ** 5)\n",
    "am_exercise = AmericanExercise(valuation_date, exercise_date)\n",
    "MCamerican_option = VanillaOption(payoff, am_exercise)\n",
    "MCamerican_option.setPricingEngine(MC_engine)\n",
    "MC_price = MCamerican_option.NPV()\n",
    "print(\"MC American option price is \", MC_price)"
   ]
  }
 ]
}