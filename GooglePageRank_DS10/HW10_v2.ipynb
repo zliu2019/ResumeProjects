{
 "cells": [
  {
   "cell_type": "markdown",
   "metadata": {},
   "source": [
    "# Problem 1: Calculate PageRank"
   ]
  },
  {
   "cell_type": "code",
   "execution_count": 1,
   "metadata": {},
   "outputs": [
    {
     "name": "stdout",
     "output_type": "stream",
     "text": [
      "Input Google Matrix: \n",
      " [[0.3  0.35 0.35]\n",
      " [0.3  0.3  0.4 ]\n",
      " [0.4  0.3  0.3 ]]\n",
      "Iteration starts ...\n",
      "k = 0\n",
      "k = 1\n",
      "k = 2\n",
      "k = 3\n",
      "k = 4\n",
      " Iteration Ends ...\n",
      " Final PageRanks are: \n",
      " [[0.33484167]\n",
      " [0.31674208]\n",
      " [0.34841625]]\n"
     ]
    }
   ],
   "source": [
    "import numpy as np\n",
    "alpha = 0.1\n",
    "H_1 = np.matrix([[0, 0.5, 0.5],[0, 0, 1],[1, 0, 0]])\n",
    "n = len(H_1)\n",
    "\n",
    "# Replace zero rows with [1/n, ..., 1/n] to generate S matrix\n",
    "S_1 = H_1.copy()\n",
    "for idx in np.where(~H_1.any(axis=1))[0]:\n",
    "    S_1[idx] = np.array([1/n]*n)\n",
    "\n",
    "G = alpha*S_1 + (1-alpha)/n * np.ones((n,n))\n",
    "print(\"Input Google Matrix: \\n\",G)\n",
    "\n",
    "pi_0 = np.matrix([1/n]*n).T\n",
    "\n",
    "print('Iteration starts ...')\n",
    "tolerance = 1.0e-6\n",
    "max_iter = 100\n",
    "for k in range(max_iter):\n",
    "    print('k =',k)\n",
    "    if k == 0:\n",
    "        input_pi = pi_0\n",
    "    else:\n",
    "        input_pi = new_pi\n",
    "    new_pi = np.dot(input_pi.T,G).T\n",
    "\n",
    "    # check convergence, l1 norm \n",
    "    diff = new_pi - input_pi\n",
    "    err = 0\n",
    "    for ele in diff:\n",
    "        err+=abs(ele)\n",
    "\n",
    "    if err < tolerance: \n",
    "        print(' Iteration Ends ...')\n",
    "        print(\" Final PageRanks are: \\n\",new_pi)\n",
    "        break"
   ]
  },
  {
   "cell_type": "markdown",
   "metadata": {},
   "source": [
    "##### Wrap into a function:"
   ]
  },
  {
   "cell_type": "code",
   "execution_count": 2,
   "metadata": {},
   "outputs": [
    {
     "name": "stdout",
     "output_type": "stream",
     "text": [
      "---Given H, n = 3 , alpha = 0.1 -------------\n",
      "Iterating starts ...\n",
      "Iteration Ends at k = 4\n",
      "Iterating time used: 0.0 seconds.\n",
      "-------------------\n"
     ]
    },
    {
     "data": {
      "text/plain": [
       "{0: 0.33484166666666665, 1: 0.3167420833333333, 2: 0.34841625}"
      ]
     },
     "execution_count": 2,
     "metadata": {},
     "output_type": "execute_result"
    }
   ],
   "source": [
    "import time\n",
    "import numpy as np\n",
    "def MyPageRank_Calculator(H, alpha = 0.85, tol = 1.0e-6, max_iter = 100):\n",
    "    '''\n",
    "    Args\n",
    "    -----------\n",
    "    H: np.matrix\n",
    "        n by n matrix indicating webpage connnections\n",
    "    alpha: float between [0,1]\n",
    "        Damping parameter for PageRank, default=0.85\n",
    "    tolerance: float\n",
    "        Iteration tolerance, default=1.0e-6\n",
    "    max_iter: positive int\n",
    "        maximum number of iterations accepted, default=100\n",
    "    \n",
    "    Returns\n",
    "    -----------\n",
    "    dic: dictionary\n",
    "        Final results for PageRank scores\n",
    "        \n",
    "    '''\n",
    "    n = len(H) # number of web nodes\n",
    "    \n",
    "    if not isinstance(H, np.matrix):\n",
    "        raise TypeError('Input H should be in a np.matrix.')\n",
    "    \n",
    "    print('---Given H, n =',n,', alpha =',alpha,'-------------')\n",
    "    print('Iterating starts ...')\n",
    "    t0 = time.process_time()\n",
    "    \n",
    "    # Replace zero rows (dangling nodes) \n",
    "    # with [1/n, ..., 1/n] to generate S matrix\n",
    "    dangling_nodes = np.where(~H.any(axis=1))[0]\n",
    "    S = H.copy()\n",
    "    for idx in dangling_nodes:\n",
    "        S[idx] = np.array([1/n]*n)\n",
    "    \n",
    "    # Calculate Adjusted Google Matrix:\n",
    "    G = alpha*S + (1-alpha)/n * np.ones((n,n))\n",
    "    \n",
    "    # initial pi vector for power method\n",
    "    pi_0 = np.matrix([1/n]*n).T\n",
    "\n",
    "    for k in range(max_iter):\n",
    "        ## print('k =',k)\n",
    "        if k == 0:\n",
    "            input_pi = pi_0\n",
    "        else:\n",
    "            input_pi = new_pi\n",
    "        new_pi = np.dot(input_pi.T,G).T\n",
    "\n",
    "        # check convergence, l1 norm \n",
    "        diff = new_pi - input_pi\n",
    "        err = 0\n",
    "        for ele in diff:\n",
    "            err+=abs(ele)\n",
    "        if err < tolerance: \n",
    "            print('Iteration Ends at k =',k)\n",
    "            print('Iterating time used:', time.process_time()-t0, 'seconds.')\n",
    "            print('-------------------')\n",
    "            dic = {}\n",
    "            for idx, r in enumerate(new_pi):\n",
    "                dic[idx] = r.item((0, 0))\n",
    "            return dic\n",
    "    raise RuntimeError('PageRank: power iteration failed to converge '\n",
    "                    'in %d iterations. Please increase max_iter.' % max_iter)\n",
    "\n",
    "# Example:\n",
    "alpha = 0.1\n",
    "H = np.matrix([[0, 0.5, 0.5],[0, 0, 1],[1, 0, 0]])\n",
    "max_iter = 5\n",
    "MyPageRank_Calculator(H = H, alpha = alpha, tol = tolerance, max_iter = max_iter)"
   ]
  },
  {
   "cell_type": "markdown",
   "metadata": {},
   "source": [
    "# 2. Empirical Investigation of the Convergence of Google PageRank:\n",
    "In class we discussed the convergence of the power method used in Google Page Rank,\n",
    "i.e.\n",
    "$$ π′_{k+1} = π′_{k}\\mathbf{G}$$\n",
    "where $G$ depends on $α$ and $0 < α ≤ 1$. In this assignment you will study the convergence\n",
    "of this iteration through simulations.\n",
    "\n",
    "## (a) Implement a function that generates a random graph-transition matrix $H$ for a graph of $10,000$ nodes. See the suggestion below.\n",
    "\n",
    "**Suggestion**: Instead of crawling the web to produce the $H$ matrix, one can construct a (random) synthetic version as follows: \n",
    "* For each row $i$ in $H$ draw a random number $π_i$ from a lognormal distribution. \n",
    "    - Suggestion: Provide your assumptions along with a motivation for why you chose certain parameter values. \n",
    "* Then rescale all {$π_i$} so that the maximum is about 20%. \n",
    "    - the matrix H is very sparse in practice, so we use 20% as the highest probability\n",
    "* Given $π_i ∈ [0, 0.2]$ select with probability $π_i$ the non-zero indices of the $i^{th}$ row. \n",
    "* You now have a random graph distribution where the popularity of each node is approximately lognormal. \n",
    "* We leave the specific assumptions/details to you to work out.\n",
    "\n"
   ]
  },
  {
   "cell_type": "code",
   "execution_count": 3,
   "metadata": {},
   "outputs": [],
   "source": [
    "import time\n",
    "import numpy as np\n",
    "np.random.seed(123)\n",
    "def H_simulator(n: int):\n",
    "    '''\n",
    "    Randomly simulate a nxn stochastic matrix H that represents the connnection among webpages.\n",
    "    A random graph distribution where the popularity of each node is approximately lognormal.\n",
    "    \n",
    "    Args\n",
    "    ----------\n",
    "    n: int\n",
    "        number of webpage nodes\n",
    "        \n",
    "    Returns\n",
    "    ---------\n",
    "    H: np.matrix\n",
    "        \n",
    "    '''\n",
    "    print('--- Given n =',n,'--------------')\n",
    "    print('Simulating for a random H ...')\n",
    "    t00 = time.process_time()\n",
    "    \n",
    "    # for each of n rows (for each node), draw a pi_i from lognormal distribution\n",
    "    raw_values = np.random.lognormal(0, 1, n)\n",
    "\n",
    "    # rescale s.t. the max = 0.2\n",
    "    old_range = max(raw_values) - min(raw_values)\n",
    "    new_range = 0.2\n",
    "    new_values = [((pi - min(raw_values))*new_range)/old_range + 0 for pi in raw_values]\n",
    "    \n",
    "    # given pi_i used as probability, decide the number of nonzeros for each row, round to integer\n",
    "    numbers_of_nonzeros_for_each_row = []\n",
    "    for prob in new_values:\n",
    "        numbers_of_nonzeros_for_each_row.append(int(round(n*prob)))\n",
    "    \n",
    "    # Randomly decided which entries to be the non-zero entries, store indices for each row\n",
    "    # Nonzero entries should be the value of 1/(number of nonzero entries for each row)\n",
    "    all_nonzero_indices = []\n",
    "    target_entry = []\n",
    "    for num in numbers_of_nonzeros_for_each_row:\n",
    "        non_zero_indices_for_row_one = np.random.choice(n-1, size=num, replace=False)\n",
    "        denom = len(non_zero_indices_for_row_one)\n",
    "        if denom == 0:\n",
    "            target_entry.append(0)\n",
    "        else:\n",
    "            target_entry.append(1/denom)\n",
    "        all_nonzero_indices.append(non_zero_indices_for_row_one)\n",
    "\n",
    "    # construct H:\n",
    "    H = []\n",
    "    for idxs, entry in zip(all_nonzero_indices,target_entry):\n",
    "        row = [0]*n\n",
    "        for idx in idxs:\n",
    "            # print(idx)\n",
    "            row[idx] = entry\n",
    "        H.append(row)\n",
    "    print('Simulating Ends.')\n",
    "    print('Time used:', time.process_time()-t00, 'seconds.')\n",
    "    print('-------------------')\n",
    "    return np.matrix(H)"
   ]
  },
  {
   "cell_type": "markdown",
   "metadata": {},
   "source": [
    "##### Setup before interating:"
   ]
  },
  {
   "cell_type": "code",
   "execution_count": 4,
   "metadata": {},
   "outputs": [
    {
     "name": "stdout",
     "output_type": "stream",
     "text": [
      "--- Given n = 10000 --------------\n",
      "Simulating for a random H ...\n",
      "Simulating Ends.\n",
      "Time used: 24.203125 seconds.\n",
      "-------------------\n",
      "dangling_nodes: \n",
      " [1638 1694 6741 6856 7533 8767]\n"
     ]
    }
   ],
   "source": [
    "n = 10000\n",
    "simulated_H = H_simulator(n)\n",
    "dangling_nodes = np.where(~simulated_H.any(axis=1))[0]\n",
    "print('dangling_nodes: \\n',dangling_nodes)"
   ]
  },
  {
   "cell_type": "markdown",
   "metadata": {},
   "source": [
    "##### Iterating method 1:"
   ]
  },
  {
   "cell_type": "code",
   "execution_count": 5,
   "metadata": {},
   "outputs": [
    {
     "name": "stdout",
     "output_type": "stream",
     "text": [
      "---Given H, n = 10000 , alpha = 0.85 -------------\n",
      "Iterating starts ...\n",
      "Iteration Ends at k = 8\n",
      "Iterating time used: 16.3125 seconds.\n",
      "-------------------\n",
      "Some example result:\n",
      "(0, 9.502509237316777e-05)\n",
      "(1, 8.2873527102901e-05)\n",
      "(2, 0.00012200614233510237)\n",
      "...\n"
     ]
    }
   ],
   "source": [
    "mypageranks = MyPageRank_Calculator(H = simulated_H)\n",
    "print('Some example result:')\n",
    "iterator = iter(mypageranks.items())\n",
    "for i in range(3):\n",
    "    print(next(iterator))\n",
    "print('...')"
   ]
  },
  {
   "cell_type": "code",
   "execution_count": 6,
   "metadata": {},
   "outputs": [
    {
     "name": "stdout",
     "output_type": "stream",
     "text": [
      "dangling_nodes: \n",
      " [1638 1694 6741 6856 7533 8767]\n"
     ]
    }
   ],
   "source": [
    "# make sure that everytime I ran the iteration, the original H stays there\n",
    "# with correct dangling_nodes:\n",
    "dangling_nodes = np.where(~simulated_H.any(axis=1))[0]\n",
    "print('dangling_nodes: \\n',dangling_nodes)"
   ]
  },
  {
   "cell_type": "markdown",
   "metadata": {},
   "source": [
    "## (b) Implement a function that evaluates the matrix/vector multiplication $x′G$ efficiently.\n",
    "\n",
    "While $G$ is a dense matrix, we can still perform matrix vector multiplication much more efficiently than $O(n^2)$:\n",
    "\n",
    "\\begin{align}\n",
    "π′_{k+1} & = π′_{k}\\mathbf{G} \\\\\n",
    "& = απ′_{k}\\mathbf{S} + \\frac{(1 − α)}{n}π′_{k}\\mathbf{e}\\mathbf{e}′ \\\\\n",
    "& = απ′_{k}(\\mathbf{H} + \\frac{1}{n}\\mathbf{a}\\mathbf{e}′) + \\frac{(1 − α)}{n}π′_{k}\\mathbf{e}\\mathbf{e}′ \\\\\n",
    "& = απ′_{k}\\mathbf{H} + π′_{k}(α\\mathbf{a} + (1 − α)\\mathbf{e})\\frac{1}{n}\\mathbf{e}′ \n",
    "\\end{align}\n",
    "\n",
    "Where $$S := H + \\frac{1}{n}\\mathbf{a}\\mathbf{e}′$$ and the vector $\\mathbf{a}$ is defined as\n",
    "$$\n",
    "\\mathbf{a}_i= \n",
    "\\begin{cases}\n",
    "    1,& \\text{if row i is a zero row (i.e. dangling node)} \\\\\n",
    "    0,& \\text{otherwise}\n",
    "\\end{cases}\n",
    "$$\n",
    "\n",
    "and $$\\mathbf{e} := (1, . . . , 1)′$$.\n",
    "\n",
    "**This matrix multiplication is $O(n)$**\n",
    "\n",
    "Note: The Google matrix is a very sparse matrix. As reported by Langville and Meyer (2011) the average number of a page’s outlinks is about $10$. This means that the complexity of computing the matrix vector multiplication of $Hx$ is about $O(10n) = O(n)$ in comparison to $O(n^2)$ for a dense matrix."
   ]
  },
  {
   "cell_type": "code",
   "execution_count": 7,
   "metadata": {},
   "outputs": [],
   "source": [
    "def MyPageRank_Calculator_modified(H, alpha = 0.85, tol = 1.0e-6, max_iter = 100):\n",
    "    # input H \n",
    "    H_use = H.copy()\n",
    "    n = len(H_use)\n",
    "    \n",
    "    print('--- Given H, n =',n,', alpha =',alpha,'-------------')\n",
    "    print('Iterating starts ...')\n",
    "    t0 = time.process_time()\n",
    "    \n",
    "    # construct e\n",
    "    e = np.matrix([1]*n).T\n",
    "\n",
    "    # construct vector a\n",
    "    # dangling index if zero row in H\n",
    "    dangling_nodes = np.where(~H_use.any(axis=1))[0]\n",
    "    \n",
    "    a = []\n",
    "    for row in range(n):\n",
    "        if row in dangling_nodes:\n",
    "            a.append(1)\n",
    "        else:\n",
    "            a.append(0)\n",
    "    a = np.matrix(a).T\n",
    "   \n",
    "    # initial pi vector for power method\n",
    "    pi_0 = np.matrix([1/n]*n).T\n",
    "    \n",
    "    for k in range(max_iter):\n",
    "        ## print('k =',k)\n",
    "        if k == 0:\n",
    "            input_pi = pi_0\n",
    "        else:\n",
    "            input_pi = new_pi\n",
    "\n",
    "        c1  = alpha * np.dot(input_pi.T,H_use)\n",
    "        c2 = alpha * a + (1-alpha)*e\n",
    "        c3 = np.dot(input_pi.T, c2)\n",
    "        c4 = np.dot(c3, 1/n * e.T )\n",
    "        new_pi = (c1 + c4).T\n",
    "        \n",
    "        # check convergence, l1 norm \n",
    "        diff = new_pi - input_pi\n",
    "        err = 0\n",
    "        for ele in diff:\n",
    "            err+=abs(ele)\n",
    "        if err < tolerance: \n",
    "            print('Iteration Modified Ends at k =',k)\n",
    "            print('Iterating time used:', time.process_time()-t0, 'seconds.')\n",
    "            print('-------------------')\n",
    "            dic = {}\n",
    "            for idx, r in enumerate(new_pi):\n",
    "                dic[idx] = r.item((0, 0))\n",
    "            return dic\n",
    "    raise RuntimeError('PageRank: power iteration failed to converge '\n",
    "                    'in %d iterations. Please increase max_iter.' % max_iter)"
   ]
  },
  {
   "cell_type": "markdown",
   "metadata": {},
   "source": [
    "##### Iterating method 2:"
   ]
  },
  {
   "cell_type": "code",
   "execution_count": 8,
   "metadata": {},
   "outputs": [
    {
     "name": "stdout",
     "output_type": "stream",
     "text": [
      "--- Given H, n = 10000 , alpha = 0.85 -------------\n",
      "Iterating starts ...\n",
      "Iteration Modified Ends at k = 8\n",
      "Iterating time used: 5.265625 seconds.\n",
      "-------------------\n",
      "Some example result:\n",
      "(0, 9.502509237316789e-05)\n",
      "(1, 8.28735271029012e-05)\n",
      "(2, 0.00012200614233510255)\n",
      "...\n"
     ]
    }
   ],
   "source": [
    "mypageranks_2 = MyPageRank_Calculator_modified(H = simulated_H)\n",
    "print('Some example result:')\n",
    "iterator_2 = iter(mypageranks_2.items())\n",
    "for i in range(3):\n",
    "    print(next(iterator_2))\n",
    "print('...')"
   ]
  },
  {
   "cell_type": "markdown",
   "metadata": {},
   "source": [
    "## (c) For all $α ∈ np.linspace(1e-4,0.1, 10)$ compute the first two eigenvalues of $G(α)$. Create a plot of each eigenvalue as a function of $α$."
   ]
  },
  {
   "cell_type": "code",
   "execution_count": 9,
   "metadata": {},
   "outputs": [],
   "source": [
    "def G_generator(alpha, H):\n",
    "    n = len(H)\n",
    "    # Replace zero rows with [1/n, ..., 1/n] to generate S matrix\n",
    "    dangling_nodes_indices = np.where(~H.any(axis=1))[0]\n",
    "    \n",
    "    H_use = H.copy()\n",
    "    S = H_use\n",
    "    for idx in dangling_nodes_indices:\n",
    "        S[idx] = np.array([1/n]*n)\n",
    "        \n",
    "    # Calculate Adjusted Google Matrix:\n",
    "    G = alpha*S + (1-alpha)/n * np.ones((n,n))\n",
    "    return G"
   ]
  },
  {
   "cell_type": "markdown",
   "metadata": {},
   "source": [
    "##### Calculate eigenvalues of G:\n",
    "To achieve a high speed of eigenvalue calculation on a really sparse matrix, I am using two potential  eigenvalue solvers called ``eigsh`` and ``eigs``.\n",
    "\n",
    "* **The method ``eigs`` used for general sparse matrix including non-symmetric ones, but it is much slower than ``eigsh``.**\n",
    "\n",
    "* **The method ``eigsh``, however, does not check the input G for being Hermitian; it just follows a process assuming it is. Therefore, we cannot legally use it. Only for a higer speed, we can pretend to assume the $\\mathbf{G}$ is being a Hermitian matrix that is equal to its own conjugate transpose, i.e. ``G = G.H``.**\n",
    "\n",
    "**In the cell below, I called ``eigs``. There is another version using ``eigsh`` implemented though.**\n",
    "\n",
    "Forum: \n",
    "\n",
    "* Using a built in eigenvalue solver is fine\n",
    "* Try to find a computational approach that **does not form the full dense matrix** when doing this though!\n",
    "* In other words, try to use a solver that leverages the $O(n)$ matrix-vector multiplication you develop in (b). \n",
    "* Some possibilities include:\n",
    "    - inverse iteration combined with Rayleigh quotient iteration. **Cannot apply here since we are not dealing with symmetric matrix.**\n",
    "    - Arnoldi iteration combined with the Rayleigh-Ritz method. **This is a much more applicable approach.** But I need to do more reseaches on it so that I can implement it from scratch:)"
   ]
  },
  {
   "cell_type": "code",
   "execution_count": 10,
   "metadata": {},
   "outputs": [
    {
     "name": "stdout",
     "output_type": "stream",
     "text": [
      "dangling_nodes: \n",
      " [1638 1694 6741 6856 7533 8767]\n",
      "----------\n",
      "1 : alpha = 0.0001 starts ...\n",
      "first eigenvalue:  1.0000000000000002\n",
      "|scond eigenvalue|:  2.333597440196664e-05\n",
      "----------\n",
      "2 : alpha = 0.0112 starts ...\n",
      "first eigenvalue:  1.0000000000000004\n",
      "|scond eigenvalue|:  0.002613629133020251\n",
      "----------\n",
      "3 : alpha = 0.0223 starts ...\n",
      "first eigenvalue:  0.9999999999999996\n",
      "|scond eigenvalue|:  0.005203922291638563\n",
      "----------\n",
      "4 : alpha = 0.0334 starts ...\n",
      "first eigenvalue:  0.9999999999999994\n",
      "|scond eigenvalue|:  0.0077898969566638325\n",
      "----------\n",
      "5 : alpha = 0.0445 starts ...\n",
      "first eigenvalue:  1.0000000000000007\n",
      "|scond eigenvalue|:  0.010384508608875093\n",
      "----------\n",
      "6 : alpha = 0.0556 starts ...\n",
      "first eigenvalue:  1.0000000000000004\n",
      "|scond eigenvalue|:  0.012974801767493466\n",
      "----------\n",
      "7 : alpha = 0.0667 starts ...\n",
      "first eigenvalue:  1.0000000000000004\n",
      "|scond eigenvalue|:  0.015556470868547136\n",
      "----------\n",
      "8 : alpha = 0.0778 starts ...\n",
      "first eigenvalue:  0.9999999999999989\n",
      "|scond eigenvalue|:  0.01815538808472991\n",
      "----------\n",
      "9 : alpha = 0.0889 starts ...\n",
      "first eigenvalue:  1.0000000000000013\n",
      "|scond eigenvalue|:  0.020734186809802845\n",
      "----------\n",
      "10 : alpha = 0.1 starts ...\n",
      "first eigenvalue:  1.0000000000000004\n",
      "|scond eigenvalue|:  0.02333597440196674\n"
     ]
    }
   ],
   "source": [
    "first_es = []\n",
    "second_es = []\n",
    "ratio = []\n",
    "\n",
    "from scipy.sparse.linalg import eigsh, eigs\n",
    "\n",
    "dangling_nodes = np.where(~simulated_H.any(axis=1))[0]\n",
    "print('dangling_nodes: \\n',dangling_nodes)\n",
    "\n",
    "alphas = np.linspace(1e-4, 0.1, 10)\n",
    "i = 1\n",
    "for alpha in alphas:\n",
    "    print('----------')\n",
    "    print(i,': alpha =', round(alpha, 5), 'starts ...')\n",
    "    simulated_G = G_generator(alpha, simulated_H)\n",
    "    \n",
    "    '''\n",
    "    vals = eigsh(simulated_G, k=2, which='LM', return_eigenvectors=False)\n",
    "    print('first eigenvalue: ', abs(vals[1]))\n",
    "    first_es.append(abs(vals[1]))\n",
    "    print('|scond eigenvalue|: ',abs(vals[0]))\n",
    "    second_es.append(abs(vals[0]))\n",
    "    ratio.append(abs(vals[0])/abs(vals[1]))\n",
    "    \n",
    "    '''\n",
    "    vals = eigs(simulated_G, k=2, which='LM', return_eigenvectors=False)\n",
    "    print('first eigenvalue: ', abs(vals[0]))\n",
    "    first_es.append(abs(vals[0]))\n",
    "    print('|scond eigenvalue|: ',abs(vals[1]))\n",
    "    second_es.append(abs(vals[1]))\n",
    "    ratio.append(abs(vals[1])/abs(vals[0]))\n",
    "          \n",
    "    i+=1"
   ]
  },
  {
   "cell_type": "code",
   "execution_count": 11,
   "metadata": {},
   "outputs": [
    {
     "name": "stdout",
     "output_type": "stream",
     "text": [
      "Ploting first two eigenvalues vs alphas ...\n"
     ]
    },
    {
     "data": {
      "image/png": "[encoded data removed]",
      "text/plain": [
       "<Figure size 1080x360 with 2 Axes>"
      ]
     },
     "metadata": {
      "needs_background": "light"
     },
     "output_type": "display_data"
    }
   ],
   "source": [
    "print('Ploting first two eigenvalues vs alphas ...')\n",
    "import matplotlib.pyplot as plt\n",
    "plt.figure(figsize=(15, 5))\n",
    "\n",
    "plt.subplot(1, 2, 1)\n",
    "plt.plot(alphas, first_es)\n",
    "plt.axis([0, 0.10, 0.9, 1.1])\n",
    "plt.title('|first eigenvalue|')\n",
    "plt.ylabel('eigenvalue')\n",
    "plt.xlabel('alpha')\n",
    "\n",
    "plt.subplot(1, 2, 2)\n",
    "plt.plot(alphas, second_es)\n",
    "plt.axis([0, 0.10, 0, 0.10])\n",
    "plt.title('|Second eigenvalue|')\n",
    "plt.ylabel('eigenvalue')\n",
    "plt.xlabel('alpha')\n",
    "\n",
    "plt.show()"
   ]
  },
  {
   "cell_type": "code",
   "execution_count": 12,
   "metadata": {},
   "outputs": [
    {
     "name": "stdout",
     "output_type": "stream",
     "text": [
      "Ploting the ratio of first two eigenvalues vs alphas ...\n"
     ]
    },
    {
     "data": {
      "image/png": "[encoded data removed]",
      "text/plain": [
       "<Figure size 432x288 with 1 Axes>"
      ]
     },
     "metadata": {
      "needs_background": "light"
     },
     "output_type": "display_data"
    }
   ],
   "source": [
    "print('Ploting the ratio of first two eigenvalues vs alphas ...')\n",
    "plt.plot(alphas, ratio)\n",
    "plt.ylabel('ratio')\n",
    "plt.xlabel('alpha')\n",
    "plt.show()"
   ]
  },
  {
   "cell_type": "markdown",
   "metadata": {},
   "source": [
    "## (d) Using simulations determine how the convergence of $a_k :=  ∥π_k − π_{k−1}∥$ depends on $α$. Are your observations consistent with the theoretical results from class? Discuss.\n",
    "\n",
    "In class:\n",
    "\n",
    "How many iterations does the iteration take until it has converged to a usable accuracy? \n",
    "* Brin and Page reported in their 1998 papers, and others have confirmed, that only **50 ~ 100** power iterations are needed before the iterates have converged, giving a satisfactory approximation to the exact PageRank vector.\n",
    "\n",
    "Why are only about **50** iterations necessary for convergence?\n",
    "* Langville and Meyer (2011) discuss this in quite some detail. \n",
    "* Briefly, the asymptotic rate of convergence of the iterative scheme is determined by the ratio $|\\frac{λ_2}{λ_1}|$, where $λ_1$ and $λ_2$ are the largest and second largest eigenvalues of matrix used in the iteration. \n",
    "* For $\\mathbf{G}$, $λ_1 = 1$ and $|λ_2| < 1$. Langville and Meyer (2011, Theorem 4.7.1, p. 46) argue that in most cases $|λ_2| ≈ α$. In their papers, Brin and Page use $α = 0.85$. \n",
    "* Note that $α^{50} = 0.8550 ≈ 0.000296$ which implies that with $50$ iterations we can expect roughly 2 ~ 3 places of accuracy in the approximate PageRank vector."
   ]
  },
  {
   "cell_type": "markdown",
   "metadata": {},
   "source": [
    "##### The speed of convergence depends on how fast $(\\frac{\\lambda_2}{\\lambda_1})^m ≈ (\\frac{\\alpha}{1})^m = \\alpha^m→ 0$:"
   ]
  },
  {
   "cell_type": "code",
   "execution_count": 13,
   "metadata": {},
   "outputs": [
    {
     "data": {
      "image/png": "[encoded data removed]",
      "text/plain": [
       "<Figure size 432x288 with 1 Axes>"
      ]
     },
     "metadata": {
      "needs_background": "light"
     },
     "output_type": "display_data"
    }
   ],
   "source": [
    "alphas = np.linspace(1e-4, 0.9, 10)\n",
    "xs = np.linspace(0, 50, 10)\n",
    "for al in alphas:\n",
    "    ys = []\n",
    "    for m in xs:\n",
    "        ys.append(al**m)\n",
    "    plt.plot(xs, ys, label='alpha='+str(round(al,3)))\n",
    "plt.legend()\n",
    "plt.show()"
   ]
  },
  {
   "cell_type": "markdown",
   "metadata": {},
   "source": [
    "Obviously, the smaller $\\alpha$ is, the faster the speed of convergence is."
   ]
  },
  {
   "cell_type": "markdown",
   "metadata": {},
   "source": [
    "#### From my simulation, I found the second largest eigenvalue of matrix $\\mathbf{G}$ is not approximately equal to $\\alpha$, which is not consistent with the theoretical result from class. However, it is true that the converge speed (i.e. the asymptotic rate of convergence, or $|\\frac{λ_2}{λ_1}| ≈ \\frac{\\alpha}{1} = \\alpha$ ) depends on our choice of $\\alpha$."
   ]
  }
 ],
 "metadata": {
  "kernelspec": {
   "display_name": "Python 3",
   "language": "python",
   "name": "python3"
  },
  "language_info": {
   "codemirror_mode": {
    "name": "ipython",
    "version": 3
   },
   "file_extension": ".py",
   "mimetype": "text/x-python",
   "name": "python",
   "nbconvert_exporter": "python",
   "pygments_lexer": "ipython3",
   "version": "3.6.9"
  }
 },
 "nbformat": 4,
 "nbformat_minor": 4
}
