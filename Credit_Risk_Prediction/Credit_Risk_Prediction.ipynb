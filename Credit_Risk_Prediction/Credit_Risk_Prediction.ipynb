{
 "metadata": {
  "language_info": {
   "codemirror_mode": {
    "name": "ipython",
    "version": 3
   },
   "file_extension": ".py",
   "mimetype": "text/x-python",
   "name": "python",
   "nbconvert_exporter": "python",
   "pygments_lexer": "ipython3",
   "version": "3.6.9"
  },
  "orig_nbformat": 2,
  "kernelspec": {
   "name": "python3",
   "display_name": "Python 3.6.9 64-bit ('mysixenv': conda)",
   "metadata": {
    "interpreter": {
     "hash": "3d88cacd8b745d4fbed2830424fce0451ea91f459b833c1d75c3abe001a2f0c4"
    }
   }
  }
 },
 "nbformat": 4,
 "nbformat_minor": 2,
 "cells": [
  {
   "source": [
    "# This notebook will present a project focusing on Credit Risk.\n",
    "## Plan\n",
    "\n",
    "Predict the probability of default by various ML models:\n",
    "- Logistic regression\n",
    "- Discriminant Analysis\n",
    "- Naive Bayesian\n",
    "- KNN\n",
    "- RF\n",
    "- Classification trees\n",
    "- Neural networks\n",
    "\n",
    "## Data\n",
    "\n",
    "### Data Source: UCI Machine Learning Repository.\n",
    "\n",
    "- https://archive.ics.uci.edu/ml/datasets/default+of+credit+card+clients#\n",
    "- https://bradzzz.gitbooks.io/ga-seattle-dsi/content/dsi/dsi_05_classification_databases/2.1-lesson/assets/datasets/DefaultCreditCardClients_yeh_2009.pdf\n",
    "\n",
    "### Data Set Information:\n",
    "\n",
    "This research aimed at the case of customers default payments in Taiwan and compares the predictive accuracy of probability of default among six data mining methods. From the perspective of risk management, the result of predictive accuracy of the estimated probability of default will be more valuable than the binary result of classification - credible or not credible clients. Because the real probability of default is unknown, this study presented the novel Sorting Smoothing Method to estimate the real probability of default. With the real probability of default as the response variable (Y), and the predictive probability of default as the independent variable (X), the simple linear regression result (Y = A + BX) shows that the forecasting model produced by artificial neural network has the highest coefficient of determination; its regression intercept (A) is close to zero, and regression coefficient (B) to one. Therefore, among the six data mining techniques, artificial neural network is the only one that can accurately estimate the real probability of default.\n",
    "\n",
    "### Attribute Information:\n",
    "\n",
    "This research employed a binary variable, default payment (Yes = 1, No = 0), as the response variable. \n",
    "\n",
    "This study reviewed the literature and used the following 23 variables as explanatory variables:\n",
    "\n",
    "- X1: Amount of the given credit (NT dollar): it includes both the individual consumer credit and his/her family (supplementary) credit.\n",
    "- X2: Gender (1 = male; 2 = female).\n",
    "- X3: Education (1 = graduate school; 2 = university; 3 = high school; 4 = others).\n",
    "- X4: Marital status (1 = married; 2 = single; 3 = others).\n",
    "- X5: Age (year).\n",
    "- X6 - X11: History of past payment. We tracked the past monthly payment records (from April to September, 2005) as follows: \n",
    "\n",
    "    - X6 = the repayment status in September, 2005; \n",
    "    - X7 = the repayment status in August, 2005; \n",
    "    - . . .;\n",
    "    - X11 = the repayment status in April, 2005. \n",
    "\n",
    "> The measurement scale for the repayment status is: \n",
    "- -1 = pay duly; \n",
    "- 1 = payment delay for one month; \n",
    "- 2 = payment delay for two months; \n",
    "- . . .; \n",
    "- 8 = payment delay for eight months; \n",
    "- 9 = payment delay for nine months and above.\n",
    "\n",
    "\n",
    "- X12-X17: Amount of bill statement (NT dollar). \n",
    "    - X12 = amount of bill statement in September, 2005; \n",
    "    - X13 = amount of bill statement in August, 2005; \n",
    "    - . . .; \n",
    "    - X17 = amount of bill statement in April, 2005.\n",
    "\n",
    "- X18-X23: Amount of previous payment (NT dollar). \n",
    "    - X18 = amount paid in September, 2005; \n",
    "    - X19 = amount paid in August, 2005; \n",
    "    - . . .;\n",
    "    - X23 = amount paid in April, 2005."
   ],
   "cell_type": "markdown",
   "metadata": {}
  },
  {
   "source": [
    "## Environment Setup and EDA"
   ],
   "cell_type": "markdown",
   "metadata": {}
  },
  {
   "cell_type": "code",
   "execution_count": 15,
   "metadata": {},
   "outputs": [],
   "source": [
    "import pandas as pd\n",
    "import numpy as np \n",
    "\n",
    "import seaborn as sns\n",
    "import matplotlib.pyplot as plt \n",
    "%matplotlib inline \n",
    "import warnings\n",
    "warnings.filterwarnings('ignore')"
   ]
  },
  {
   "cell_type": "code",
   "execution_count": 17,
   "metadata": {},
   "outputs": [
    {
     "output_type": "execute_result",
     "data": {
      "text/plain": [
       "   X1:LIMIT_BAL  X2:SEX  X3:EDUCATION  X4:MARRIAGE  X5:AGE  X6:PAY_0  \\\n",
       "1         20000       2             2            1      24         2   \n",
       "2        120000       2             2            2      26        -1   \n",
       "3         90000       2             2            2      34         0   \n",
       "4         50000       2             2            1      37         0   \n",
       "5         50000       1             2            1      57        -1   \n",
       "\n",
       "   X7:PAY_2  X8:PAY_3  X9:PAY_4  X10:PAY_5  ...  X15:BILL_AMT4  X16:BILL_AMT5  \\\n",
       "1         2        -1        -1         -2  ...              0              0   \n",
       "2         2         0         0          0  ...           3272           3455   \n",
       "3         0         0         0          0  ...          14331          14948   \n",
       "4         0         0         0          0  ...          28314          28959   \n",
       "5         0        -1         0          0  ...          20940          19146   \n",
       "\n",
       "   X17:BILL_AMT6  X18:PAY_AMT1  X19:PAY_AMT2  X20:PAY_AMT3  X21:PAY_AMT4  \\\n",
       "1              0             0           689             0             0   \n",
       "2           3261             0          1000          1000          1000   \n",
       "3          15549          1518          1500          1000          1000   \n",
       "4          29547          2000          2019          1200          1100   \n",
       "5          19131          2000         36681         10000          9000   \n",
       "\n",
       "   X22:PAY_AMT5  X23:PAY_AMT6  Y:default payment next month  \n",
       "1             0             0                             1  \n",
       "2             0          2000                             1  \n",
       "3          1000          5000                             0  \n",
       "4          1069          1000                             0  \n",
       "5           689           679                             0  \n",
       "\n",
       "[5 rows x 24 columns]"
      ],
      "text/html": "<div>\n<style scoped>\n    .dataframe tbody tr th:only-of-type {\n        vertical-align: middle;\n    }\n\n    .dataframe tbody tr th {\n        vertical-align: top;\n    }\n\n    .dataframe thead th {\n        text-align: right;\n    }\n</style>\n<table border=\"1\" class=\"dataframe\">\n  <thead>\n    <tr style=\"text-align: right;\">\n      <th></th>\n      <th>X1:LIMIT_BAL</th>\n      <th>X2:SEX</th>\n      <th>X3:EDUCATION</th>\n      <th>X4:MARRIAGE</th>\n      <th>X5:AGE</th>\n      <th>X6:PAY_0</th>\n      <th>X7:PAY_2</th>\n      <th>X8:PAY_3</th>\n      <th>X9:PAY_4</th>\n      <th>X10:PAY_5</th>\n      <th>...</th>\n      <th>X15:BILL_AMT4</th>\n      <th>X16:BILL_AMT5</th>\n      <th>X17:BILL_AMT6</th>\n      <th>X18:PAY_AMT1</th>\n      <th>X19:PAY_AMT2</th>\n      <th>X20:PAY_AMT3</th>\n      <th>X21:PAY_AMT4</th>\n      <th>X22:PAY_AMT5</th>\n      <th>X23:PAY_AMT6</th>\n      <th>Y:default payment next month</th>\n    </tr>\n  </thead>\n  <tbody>\n    <tr>\n      <th>1</th>\n      <td>20000</td>\n      <td>2</td>\n      <td>2</td>\n      <td>1</td>\n      <td>24</td>\n      <td>2</td>\n      <td>2</td>\n      <td>-1</td>\n      <td>-1</td>\n      <td>-2</td>\n      <td>...</td>\n      <td>0</td>\n      <td>0</td>\n      <td>0</td>\n      <td>0</td>\n      <td>689</td>\n      <td>0</td>\n      <td>0</td>\n      <td>0</td>\n      <td>0</td>\n      <td>1</td>\n    </tr>\n    <tr>\n      <th>2</th>\n      <td>120000</td>\n      <td>2</td>\n      <td>2</td>\n      <td>2</td>\n      <td>26</td>\n      <td>-1</td>\n      <td>2</td>\n      <td>0</td>\n      <td>0</td>\n      <td>0</td>\n      <td>...</td>\n      <td>3272</td>\n      <td>3455</td>\n      <td>3261</td>\n      <td>0</td>\n      <td>1000</td>\n      <td>1000</td>\n      <td>1000</td>\n      <td>0</td>\n      <td>2000</td>\n      <td>1</td>\n    </tr>\n    <tr>\n      <th>3</th>\n      <td>90000</td>\n      <td>2</td>\n      <td>2</td>\n      <td>2</td>\n      <td>34</td>\n      <td>0</td>\n      <td>0</td>\n      <td>0</td>\n      <td>0</td>\n      <td>0</td>\n      <td>...</td>\n      <td>14331</td>\n      <td>14948</td>\n      <td>15549</td>\n      <td>1518</td>\n      <td>1500</td>\n      <td>1000</td>\n      <td>1000</td>\n      <td>1000</td>\n      <td>5000</td>\n      <td>0</td>\n    </tr>\n    <tr>\n      <th>4</th>\n      <td>50000</td>\n      <td>2</td>\n      <td>2</td>\n      <td>1</td>\n      <td>37</td>\n      <td>0</td>\n      <td>0</td>\n      <td>0</td>\n      <td>0</td>\n      <td>0</td>\n      <td>...</td>\n      <td>28314</td>\n      <td>28959</td>\n      <td>29547</td>\n      <td>2000</td>\n      <td>2019</td>\n      <td>1200</td>\n      <td>1100</td>\n      <td>1069</td>\n      <td>1000</td>\n      <td>0</td>\n    </tr>\n    <tr>\n      <th>5</th>\n      <td>50000</td>\n      <td>1</td>\n      <td>2</td>\n      <td>1</td>\n      <td>57</td>\n      <td>-1</td>\n      <td>0</td>\n      <td>-1</td>\n      <td>0</td>\n      <td>0</td>\n      <td>...</td>\n      <td>20940</td>\n      <td>19146</td>\n      <td>19131</td>\n      <td>2000</td>\n      <td>36681</td>\n      <td>10000</td>\n      <td>9000</td>\n      <td>689</td>\n      <td>679</td>\n      <td>0</td>\n    </tr>\n  </tbody>\n</table>\n<p>5 rows × 24 columns</p>\n</div>"
     },
     "metadata": {},
     "execution_count": 17
    }
   ],
   "source": [
    "data = pd.read_excel('Credit_Risk_Prediction\\data_uci\\default_of_credit_card_clients.xls', header=[0,1], index_col=0)\n",
    "data.columns = data.columns.map(':'.join)\n",
    "data.head()"
   ]
  },
  {
   "cell_type": "code",
   "execution_count": 19,
   "metadata": {},
   "outputs": [
    {
     "output_type": "stream",
     "name": "stdout",
     "text": [
      "<class 'pandas.core.frame.DataFrame'>\nInt64Index: 30000 entries, 1 to 30000\nData columns (total 24 columns):\nX1:LIMIT_BAL                    30000 non-null int64\nX2:SEX                          30000 non-null int64\nX3:EDUCATION                    30000 non-null int64\nX4:MARRIAGE                     30000 non-null int64\nX5:AGE                          30000 non-null int64\nX6:PAY_0                        30000 non-null int64\nX7:PAY_2                        30000 non-null int64\nX8:PAY_3                        30000 non-null int64\nX9:PAY_4                        30000 non-null int64\nX10:PAY_5                       30000 non-null int64\nX11:PAY_6                       30000 non-null int64\nX12:BILL_AMT1                   30000 non-null int64\nX13:BILL_AMT2                   30000 non-null int64\nX14:BILL_AMT3                   30000 non-null int64\nX15:BILL_AMT4                   30000 non-null int64\nX16:BILL_AMT5                   30000 non-null int64\nX17:BILL_AMT6                   30000 non-null int64\nX18:PAY_AMT1                    30000 non-null int64\nX19:PAY_AMT2                    30000 non-null int64\nX20:PAY_AMT3                    30000 non-null int64\nX21:PAY_AMT4                    30000 non-null int64\nX22:PAY_AMT5                    30000 non-null int64\nX23:PAY_AMT6                    30000 non-null int64\nY:default payment next month    30000 non-null int64\ndtypes: int64(24)\nmemory usage: 7.0 MB\n"
     ]
    }
   ],
   "source": [
    "data.info()"
   ]
  },
  {
   "cell_type": "code",
   "execution_count": 18,
   "metadata": {},
   "outputs": [
    {
     "output_type": "execute_result",
     "data": {
      "text/plain": [
       "         X1:LIMIT_BAL        X2:SEX  X3:EDUCATION   X4:MARRIAGE        X5:AGE  \\\n",
       "count    30000.000000  30000.000000  30000.000000  30000.000000  30000.000000   \n",
       "mean    167484.322667      1.603733      1.853133      1.551867     35.485500   \n",
       "std     129747.661567      0.489129      0.790349      0.521970      9.217904   \n",
       "min      10000.000000      1.000000      0.000000      0.000000     21.000000   \n",
       "25%      50000.000000      1.000000      1.000000      1.000000     28.000000   \n",
       "50%     140000.000000      2.000000      2.000000      2.000000     34.000000   \n",
       "75%     240000.000000      2.000000      2.000000      2.000000     41.000000   \n",
       "max    1000000.000000      2.000000      6.000000      3.000000     79.000000   \n",
       "\n",
       "           X6:PAY_0      X7:PAY_2      X8:PAY_3      X9:PAY_4     X10:PAY_5  \\\n",
       "count  30000.000000  30000.000000  30000.000000  30000.000000  30000.000000   \n",
       "mean      -0.016700     -0.133767     -0.166200     -0.220667     -0.266200   \n",
       "std        1.123802      1.197186      1.196868      1.169139      1.133187   \n",
       "min       -2.000000     -2.000000     -2.000000     -2.000000     -2.000000   \n",
       "25%       -1.000000     -1.000000     -1.000000     -1.000000     -1.000000   \n",
       "50%        0.000000      0.000000      0.000000      0.000000      0.000000   \n",
       "75%        0.000000      0.000000      0.000000      0.000000      0.000000   \n",
       "max        8.000000      8.000000      8.000000      8.000000      8.000000   \n",
       "\n",
       "       ...  X15:BILL_AMT4  X16:BILL_AMT5  X17:BILL_AMT6   X18:PAY_AMT1  \\\n",
       "count  ...   30000.000000   30000.000000   30000.000000   30000.000000   \n",
       "mean   ...   43262.948967   40311.400967   38871.760400    5663.580500   \n",
       "std    ...   64332.856134   60797.155770   59554.107537   16563.280354   \n",
       "min    ... -170000.000000  -81334.000000 -339603.000000       0.000000   \n",
       "25%    ...    2326.750000    1763.000000    1256.000000    1000.000000   \n",
       "50%    ...   19052.000000   18104.500000   17071.000000    2100.000000   \n",
       "75%    ...   54506.000000   50190.500000   49198.250000    5006.000000   \n",
       "max    ...  891586.000000  927171.000000  961664.000000  873552.000000   \n",
       "\n",
       "       X19:PAY_AMT2  X20:PAY_AMT3   X21:PAY_AMT4   X22:PAY_AMT5  \\\n",
       "count  3.000000e+04   30000.00000   30000.000000   30000.000000   \n",
       "mean   5.921163e+03    5225.68150    4826.076867    4799.387633   \n",
       "std    2.304087e+04   17606.96147   15666.159744   15278.305679   \n",
       "min    0.000000e+00       0.00000       0.000000       0.000000   \n",
       "25%    8.330000e+02     390.00000     296.000000     252.500000   \n",
       "50%    2.009000e+03    1800.00000    1500.000000    1500.000000   \n",
       "75%    5.000000e+03    4505.00000    4013.250000    4031.500000   \n",
       "max    1.684259e+06  896040.00000  621000.000000  426529.000000   \n",
       "\n",
       "        X23:PAY_AMT6  Y:default payment next month  \n",
       "count   30000.000000                  30000.000000  \n",
       "mean     5215.502567                      0.221200  \n",
       "std     17777.465775                      0.415062  \n",
       "min         0.000000                      0.000000  \n",
       "25%       117.750000                      0.000000  \n",
       "50%      1500.000000                      0.000000  \n",
       "75%      4000.000000                      0.000000  \n",
       "max    528666.000000                      1.000000  \n",
       "\n",
       "[8 rows x 24 columns]"
      ],
      "text/html": "<div>\n<style scoped>\n    .dataframe tbody tr th:only-of-type {\n        vertical-align: middle;\n    }\n\n    .dataframe tbody tr th {\n        vertical-align: top;\n    }\n\n    .dataframe thead th {\n        text-align: right;\n    }\n</style>\n<table border=\"1\" class=\"dataframe\">\n  <thead>\n    <tr style=\"text-align: right;\">\n      <th></th>\n      <th>X1:LIMIT_BAL</th>\n      <th>X2:SEX</th>\n      <th>X3:EDUCATION</th>\n      <th>X4:MARRIAGE</th>\n      <th>X5:AGE</th>\n      <th>X6:PAY_0</th>\n      <th>X7:PAY_2</th>\n      <th>X8:PAY_3</th>\n      <th>X9:PAY_4</th>\n      <th>X10:PAY_5</th>\n      <th>...</th>\n      <th>X15:BILL_AMT4</th>\n      <th>X16:BILL_AMT5</th>\n      <th>X17:BILL_AMT6</th>\n      <th>X18:PAY_AMT1</th>\n      <th>X19:PAY_AMT2</th>\n      <th>X20:PAY_AMT3</th>\n      <th>X21:PAY_AMT4</th>\n      <th>X22:PAY_AMT5</th>\n      <th>X23:PAY_AMT6</th>\n      <th>Y:default payment next month</th>\n    </tr>\n  </thead>\n  <tbody>\n    <tr>\n      <th>count</th>\n      <td>30000.000000</td>\n      <td>30000.000000</td>\n      <td>30000.000000</td>\n      <td>30000.000000</td>\n      <td>30000.000000</td>\n      <td>30000.000000</td>\n      <td>30000.000000</td>\n      <td>30000.000000</td>\n      <td>30000.000000</td>\n      <td>30000.000000</td>\n      <td>...</td>\n      <td>30000.000000</td>\n      <td>30000.000000</td>\n      <td>30000.000000</td>\n      <td>30000.000000</td>\n      <td>3.000000e+04</td>\n      <td>30000.00000</td>\n      <td>30000.000000</td>\n      <td>30000.000000</td>\n      <td>30000.000000</td>\n      <td>30000.000000</td>\n    </tr>\n    <tr>\n      <th>mean</th>\n      <td>167484.322667</td>\n      <td>1.603733</td>\n      <td>1.853133</td>\n      <td>1.551867</td>\n      <td>35.485500</td>\n      <td>-0.016700</td>\n      <td>-0.133767</td>\n      <td>-0.166200</td>\n      <td>-0.220667</td>\n      <td>-0.266200</td>\n      <td>...</td>\n      <td>43262.948967</td>\n      <td>40311.400967</td>\n      <td>38871.760400</td>\n      <td>5663.580500</td>\n      <td>5.921163e+03</td>\n      <td>5225.68150</td>\n      <td>4826.076867</td>\n      <td>4799.387633</td>\n      <td>5215.502567</td>\n      <td>0.221200</td>\n    </tr>\n    <tr>\n      <th>std</th>\n      <td>129747.661567</td>\n      <td>0.489129</td>\n      <td>0.790349</td>\n      <td>0.521970</td>\n      <td>9.217904</td>\n      <td>1.123802</td>\n      <td>1.197186</td>\n      <td>1.196868</td>\n      <td>1.169139</td>\n      <td>1.133187</td>\n      <td>...</td>\n      <td>64332.856134</td>\n      <td>60797.155770</td>\n      <td>59554.107537</td>\n      <td>16563.280354</td>\n      <td>2.304087e+04</td>\n      <td>17606.96147</td>\n      <td>15666.159744</td>\n      <td>15278.305679</td>\n      <td>17777.465775</td>\n      <td>0.415062</td>\n    </tr>\n    <tr>\n      <th>min</th>\n      <td>10000.000000</td>\n      <td>1.000000</td>\n      <td>0.000000</td>\n      <td>0.000000</td>\n      <td>21.000000</td>\n      <td>-2.000000</td>\n      <td>-2.000000</td>\n      <td>-2.000000</td>\n      <td>-2.000000</td>\n      <td>-2.000000</td>\n      <td>...</td>\n      <td>-170000.000000</td>\n      <td>-81334.000000</td>\n      <td>-339603.000000</td>\n      <td>0.000000</td>\n      <td>0.000000e+00</td>\n      <td>0.00000</td>\n      <td>0.000000</td>\n      <td>0.000000</td>\n      <td>0.000000</td>\n      <td>0.000000</td>\n    </tr>\n    <tr>\n      <th>25%</th>\n      <td>50000.000000</td>\n      <td>1.000000</td>\n      <td>1.000000</td>\n      <td>1.000000</td>\n      <td>28.000000</td>\n      <td>-1.000000</td>\n      <td>-1.000000</td>\n      <td>-1.000000</td>\n      <td>-1.000000</td>\n      <td>-1.000000</td>\n      <td>...</td>\n      <td>2326.750000</td>\n      <td>1763.000000</td>\n      <td>1256.000000</td>\n      <td>1000.000000</td>\n      <td>8.330000e+02</td>\n      <td>390.00000</td>\n      <td>296.000000</td>\n      <td>252.500000</td>\n      <td>117.750000</td>\n      <td>0.000000</td>\n    </tr>\n    <tr>\n      <th>50%</th>\n      <td>140000.000000</td>\n      <td>2.000000</td>\n      <td>2.000000</td>\n      <td>2.000000</td>\n      <td>34.000000</td>\n      <td>0.000000</td>\n      <td>0.000000</td>\n      <td>0.000000</td>\n      <td>0.000000</td>\n      <td>0.000000</td>\n      <td>...</td>\n      <td>19052.000000</td>\n      <td>18104.500000</td>\n      <td>17071.000000</td>\n      <td>2100.000000</td>\n      <td>2.009000e+03</td>\n      <td>1800.00000</td>\n      <td>1500.000000</td>\n      <td>1500.000000</td>\n      <td>1500.000000</td>\n      <td>0.000000</td>\n    </tr>\n    <tr>\n      <th>75%</th>\n      <td>240000.000000</td>\n      <td>2.000000</td>\n      <td>2.000000</td>\n      <td>2.000000</td>\n      <td>41.000000</td>\n      <td>0.000000</td>\n      <td>0.000000</td>\n      <td>0.000000</td>\n      <td>0.000000</td>\n      <td>0.000000</td>\n      <td>...</td>\n      <td>54506.000000</td>\n      <td>50190.500000</td>\n      <td>49198.250000</td>\n      <td>5006.000000</td>\n      <td>5.000000e+03</td>\n      <td>4505.00000</td>\n      <td>4013.250000</td>\n      <td>4031.500000</td>\n      <td>4000.000000</td>\n      <td>0.000000</td>\n    </tr>\n    <tr>\n      <th>max</th>\n      <td>1000000.000000</td>\n      <td>2.000000</td>\n      <td>6.000000</td>\n      <td>3.000000</td>\n      <td>79.000000</td>\n      <td>8.000000</td>\n      <td>8.000000</td>\n      <td>8.000000</td>\n      <td>8.000000</td>\n      <td>8.000000</td>\n      <td>...</td>\n      <td>891586.000000</td>\n      <td>927171.000000</td>\n      <td>961664.000000</td>\n      <td>873552.000000</td>\n      <td>1.684259e+06</td>\n      <td>896040.00000</td>\n      <td>621000.000000</td>\n      <td>426529.000000</td>\n      <td>528666.000000</td>\n      <td>1.000000</td>\n    </tr>\n  </tbody>\n</table>\n<p>8 rows × 24 columns</p>\n</div>"
     },
     "metadata": {},
     "execution_count": 18
    }
   ],
   "source": [
    "data.describe()"
   ]
  },
  {
   "cell_type": "code",
   "execution_count": null,
   "metadata": {},
   "outputs": [],
   "source": []
  },
  {
   "cell_type": "code",
   "execution_count": 14,
   "metadata": {},
   "outputs": [
    {
     "output_type": "execute_result",
     "data": {
      "text/plain": [
       "       X1:LIMIT_BAL  X2:SEX  X3:EDUCATION  X4:MARRIAGE  X5:AGE  X6:PAY_0  \\\n",
       "1             False   False         False        False   False     False   \n",
       "2             False   False         False        False   False     False   \n",
       "3             False   False         False        False   False     False   \n",
       "4             False   False         False        False   False     False   \n",
       "5             False   False         False        False   False     False   \n",
       "...             ...     ...           ...          ...     ...       ...   \n",
       "29996         False   False         False        False   False     False   \n",
       "29997         False   False         False        False   False     False   \n",
       "29998         False   False         False        False   False     False   \n",
       "29999         False   False         False        False   False     False   \n",
       "30000         False   False         False        False   False     False   \n",
       "\n",
       "       X7:PAY_2  X8:PAY_3  X9:PAY_4  X10:PAY_5  ...  X15:BILL_AMT4  \\\n",
       "1         False     False     False      False  ...          False   \n",
       "2         False     False     False      False  ...          False   \n",
       "3         False     False     False      False  ...          False   \n",
       "4         False     False     False      False  ...          False   \n",
       "5         False     False     False      False  ...          False   \n",
       "...         ...       ...       ...        ...  ...            ...   \n",
       "29996     False     False     False      False  ...          False   \n",
       "29997     False     False     False      False  ...          False   \n",
       "29998     False     False     False      False  ...          False   \n",
       "29999     False     False     False      False  ...          False   \n",
       "30000     False     False     False      False  ...          False   \n",
       "\n",
       "       X16:BILL_AMT5  X17:BILL_AMT6  X18:PAY_AMT1  X19:PAY_AMT2  X20:PAY_AMT3  \\\n",
       "1              False          False         False         False         False   \n",
       "2              False          False         False         False         False   \n",
       "3              False          False         False         False         False   \n",
       "4              False          False         False         False         False   \n",
       "5              False          False         False         False         False   \n",
       "...              ...            ...           ...           ...           ...   \n",
       "29996          False          False         False         False         False   \n",
       "29997          False          False         False         False         False   \n",
       "29998          False          False         False         False         False   \n",
       "29999          False          False         False         False         False   \n",
       "30000          False          False         False         False         False   \n",
       "\n",
       "       X21:PAY_AMT4  X22:PAY_AMT5  X23:PAY_AMT6  Y:default payment next month  \n",
       "1             False         False         False                         False  \n",
       "2             False         False         False                         False  \n",
       "3             False         False         False                         False  \n",
       "4             False         False         False                         False  \n",
       "5             False         False         False                         False  \n",
       "...             ...           ...           ...                           ...  \n",
       "29996         False         False         False                         False  \n",
       "29997         False         False         False                         False  \n",
       "29998         False         False         False                         False  \n",
       "29999         False         False         False                         False  \n",
       "30000         False         False         False                         False  \n",
       "\n",
       "[30000 rows x 24 columns]"
      ],
      "text/html": "<div>\n<style scoped>\n    .dataframe tbody tr th:only-of-type {\n        vertical-align: middle;\n    }\n\n    .dataframe tbody tr th {\n        vertical-align: top;\n    }\n\n    .dataframe thead th {\n        text-align: right;\n    }\n</style>\n<table border=\"1\" class=\"dataframe\">\n  <thead>\n    <tr style=\"text-align: right;\">\n      <th></th>\n      <th>X1:LIMIT_BAL</th>\n      <th>X2:SEX</th>\n      <th>X3:EDUCATION</th>\n      <th>X4:MARRIAGE</th>\n      <th>X5:AGE</th>\n      <th>X6:PAY_0</th>\n      <th>X7:PAY_2</th>\n      <th>X8:PAY_3</th>\n      <th>X9:PAY_4</th>\n      <th>X10:PAY_5</th>\n      <th>...</th>\n      <th>X15:BILL_AMT4</th>\n      <th>X16:BILL_AMT5</th>\n      <th>X17:BILL_AMT6</th>\n      <th>X18:PAY_AMT1</th>\n      <th>X19:PAY_AMT2</th>\n      <th>X20:PAY_AMT3</th>\n      <th>X21:PAY_AMT4</th>\n      <th>X22:PAY_AMT5</th>\n      <th>X23:PAY_AMT6</th>\n      <th>Y:default payment next month</th>\n    </tr>\n  </thead>\n  <tbody>\n    <tr>\n      <th>1</th>\n      <td>False</td>\n      <td>False</td>\n      <td>False</td>\n      <td>False</td>\n      <td>False</td>\n      <td>False</td>\n      <td>False</td>\n      <td>False</td>\n      <td>False</td>\n      <td>False</td>\n      <td>...</td>\n      <td>False</td>\n      <td>False</td>\n      <td>False</td>\n      <td>False</td>\n      <td>False</td>\n      <td>False</td>\n      <td>False</td>\n      <td>False</td>\n      <td>False</td>\n      <td>False</td>\n    </tr>\n    <tr>\n      <th>2</th>\n      <td>False</td>\n      <td>False</td>\n      <td>False</td>\n      <td>False</td>\n      <td>False</td>\n      <td>False</td>\n      <td>False</td>\n      <td>False</td>\n      <td>False</td>\n      <td>False</td>\n      <td>...</td>\n      <td>False</td>\n      <td>False</td>\n      <td>False</td>\n      <td>False</td>\n      <td>False</td>\n      <td>False</td>\n      <td>False</td>\n      <td>False</td>\n      <td>False</td>\n      <td>False</td>\n    </tr>\n    <tr>\n      <th>3</th>\n      <td>False</td>\n      <td>False</td>\n      <td>False</td>\n      <td>False</td>\n      <td>False</td>\n      <td>False</td>\n      <td>False</td>\n      <td>False</td>\n      <td>False</td>\n      <td>False</td>\n      <td>...</td>\n      <td>False</td>\n      <td>False</td>\n      <td>False</td>\n      <td>False</td>\n      <td>False</td>\n      <td>False</td>\n      <td>False</td>\n      <td>False</td>\n      <td>False</td>\n      <td>False</td>\n    </tr>\n    <tr>\n      <th>4</th>\n      <td>False</td>\n      <td>False</td>\n      <td>False</td>\n      <td>False</td>\n      <td>False</td>\n      <td>False</td>\n      <td>False</td>\n      <td>False</td>\n      <td>False</td>\n      <td>False</td>\n      <td>...</td>\n      <td>False</td>\n      <td>False</td>\n      <td>False</td>\n      <td>False</td>\n      <td>False</td>\n      <td>False</td>\n      <td>False</td>\n      <td>False</td>\n      <td>False</td>\n      <td>False</td>\n    </tr>\n    <tr>\n      <th>5</th>\n      <td>False</td>\n      <td>False</td>\n      <td>False</td>\n      <td>False</td>\n      <td>False</td>\n      <td>False</td>\n      <td>False</td>\n      <td>False</td>\n      <td>False</td>\n      <td>False</td>\n      <td>...</td>\n      <td>False</td>\n      <td>False</td>\n      <td>False</td>\n      <td>False</td>\n      <td>False</td>\n      <td>False</td>\n      <td>False</td>\n      <td>False</td>\n      <td>False</td>\n      <td>False</td>\n    </tr>\n    <tr>\n      <th>...</th>\n      <td>...</td>\n      <td>...</td>\n      <td>...</td>\n      <td>...</td>\n      <td>...</td>\n      <td>...</td>\n      <td>...</td>\n      <td>...</td>\n      <td>...</td>\n      <td>...</td>\n      <td>...</td>\n      <td>...</td>\n      <td>...</td>\n      <td>...</td>\n      <td>...</td>\n      <td>...</td>\n      <td>...</td>\n      <td>...</td>\n      <td>...</td>\n      <td>...</td>\n      <td>...</td>\n    </tr>\n    <tr>\n      <th>29996</th>\n      <td>False</td>\n      <td>False</td>\n      <td>False</td>\n      <td>False</td>\n      <td>False</td>\n      <td>False</td>\n      <td>False</td>\n      <td>False</td>\n      <td>False</td>\n      <td>False</td>\n      <td>...</td>\n      <td>False</td>\n      <td>False</td>\n      <td>False</td>\n      <td>False</td>\n      <td>False</td>\n      <td>False</td>\n      <td>False</td>\n      <td>False</td>\n      <td>False</td>\n      <td>False</td>\n    </tr>\n    <tr>\n      <th>29997</th>\n      <td>False</td>\n      <td>False</td>\n      <td>False</td>\n      <td>False</td>\n      <td>False</td>\n      <td>False</td>\n      <td>False</td>\n      <td>False</td>\n      <td>False</td>\n      <td>False</td>\n      <td>...</td>\n      <td>False</td>\n      <td>False</td>\n      <td>False</td>\n      <td>False</td>\n      <td>False</td>\n      <td>False</td>\n      <td>False</td>\n      <td>False</td>\n      <td>False</td>\n      <td>False</td>\n    </tr>\n    <tr>\n      <th>29998</th>\n      <td>False</td>\n      <td>False</td>\n      <td>False</td>\n      <td>False</td>\n      <td>False</td>\n      <td>False</td>\n      <td>False</td>\n      <td>False</td>\n      <td>False</td>\n      <td>False</td>\n      <td>...</td>\n      <td>False</td>\n      <td>False</td>\n      <td>False</td>\n      <td>False</td>\n      <td>False</td>\n      <td>False</td>\n      <td>False</td>\n      <td>False</td>\n      <td>False</td>\n      <td>False</td>\n    </tr>\n    <tr>\n      <th>29999</th>\n      <td>False</td>\n      <td>False</td>\n      <td>False</td>\n      <td>False</td>\n      <td>False</td>\n      <td>False</td>\n      <td>False</td>\n      <td>False</td>\n      <td>False</td>\n      <td>False</td>\n      <td>...</td>\n      <td>False</td>\n      <td>False</td>\n      <td>False</td>\n      <td>False</td>\n      <td>False</td>\n      <td>False</td>\n      <td>False</td>\n      <td>False</td>\n      <td>False</td>\n      <td>False</td>\n    </tr>\n    <tr>\n      <th>30000</th>\n      <td>False</td>\n      <td>False</td>\n      <td>False</td>\n      <td>False</td>\n      <td>False</td>\n      <td>False</td>\n      <td>False</td>\n      <td>False</td>\n      <td>False</td>\n      <td>False</td>\n      <td>...</td>\n      <td>False</td>\n      <td>False</td>\n      <td>False</td>\n      <td>False</td>\n      <td>False</td>\n      <td>False</td>\n      <td>False</td>\n      <td>False</td>\n      <td>False</td>\n      <td>False</td>\n    </tr>\n  </tbody>\n</table>\n<p>30000 rows × 24 columns</p>\n</div>"
     },
     "metadata": {},
     "execution_count": 14
    }
   ],
   "source": [
    "data.isnull()"
   ]
  }
 ]
}